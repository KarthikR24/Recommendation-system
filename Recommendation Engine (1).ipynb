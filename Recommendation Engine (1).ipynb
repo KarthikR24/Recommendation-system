{
 "cells": [
  {
   "cell_type": "markdown",
   "metadata": {},
   "source": [
    "# Recommendation Systems"
   ]
  },
  {
   "cell_type": "code",
   "execution_count": 1,
   "metadata": {
    "ExecuteTime": {
     "end_time": "2021-01-31T18:20:47.093268Z",
     "start_time": "2021-01-31T18:20:46.756181Z"
    }
   },
   "outputs": [],
   "source": [
    "import pandas as pd\n",
    "import numpy as np"
   ]
  },
  {
   "cell_type": "code",
   "execution_count": 2,
   "metadata": {
    "ExecuteTime": {
     "end_time": "2021-01-31T18:20:47.108235Z",
     "start_time": "2021-01-31T18:20:47.096301Z"
    }
   },
   "outputs": [],
   "source": [
    "b = \"D:/ExcelR/Assignments/Recommendation/book.csv\""
   ]
  },
  {
   "cell_type": "code",
   "execution_count": 3,
   "metadata": {
    "ExecuteTime": {
     "end_time": "2021-01-31T18:20:48.307290Z",
     "start_time": "2021-01-31T18:20:47.110227Z"
    }
   },
   "outputs": [
    {
     "data": {
      "text/plain": [
       "{'encoding': 'ISO-8859-1', 'confidence': 0.7171222254531355, 'language': ''}"
      ]
     },
     "execution_count": 3,
     "metadata": {},
     "output_type": "execute_result"
    }
   ],
   "source": [
    "import chardet\n",
    "with open(b,'rb')as rawdata:\n",
    "    result = chardet.detect(rawdata.read(100000))\n",
    "result"
   ]
  },
  {
   "cell_type": "code",
   "execution_count": 4,
   "metadata": {
    "ExecuteTime": {
     "end_time": "2021-01-31T18:20:48.338344Z",
     "start_time": "2021-01-31T18:20:48.308797Z"
    }
   },
   "outputs": [
    {
     "data": {
      "text/html": [
       "<div>\n",
       "<style scoped>\n",
       "    .dataframe tbody tr th:only-of-type {\n",
       "        vertical-align: middle;\n",
       "    }\n",
       "\n",
       "    .dataframe tbody tr th {\n",
       "        vertical-align: top;\n",
       "    }\n",
       "\n",
       "    .dataframe thead th {\n",
       "        text-align: right;\n",
       "    }\n",
       "</style>\n",
       "<table border=\"1\" class=\"dataframe\">\n",
       "  <thead>\n",
       "    <tr style=\"text-align: right;\">\n",
       "      <th></th>\n",
       "      <th>Unnamed: 0</th>\n",
       "      <th>User.ID</th>\n",
       "      <th>Book.Title</th>\n",
       "      <th>Book.Rating</th>\n",
       "    </tr>\n",
       "  </thead>\n",
       "  <tbody>\n",
       "    <tr>\n",
       "      <th>0</th>\n",
       "      <td>1</td>\n",
       "      <td>276726</td>\n",
       "      <td>Classical Mythology</td>\n",
       "      <td>5</td>\n",
       "    </tr>\n",
       "    <tr>\n",
       "      <th>1</th>\n",
       "      <td>2</td>\n",
       "      <td>276729</td>\n",
       "      <td>Clara Callan</td>\n",
       "      <td>3</td>\n",
       "    </tr>\n",
       "    <tr>\n",
       "      <th>2</th>\n",
       "      <td>3</td>\n",
       "      <td>276729</td>\n",
       "      <td>Decision in Normandy</td>\n",
       "      <td>6</td>\n",
       "    </tr>\n",
       "    <tr>\n",
       "      <th>3</th>\n",
       "      <td>4</td>\n",
       "      <td>276736</td>\n",
       "      <td>Flu: The Story of the Great Influenza Pandemic...</td>\n",
       "      <td>8</td>\n",
       "    </tr>\n",
       "    <tr>\n",
       "      <th>4</th>\n",
       "      <td>5</td>\n",
       "      <td>276737</td>\n",
       "      <td>The Mummies of Urumchi</td>\n",
       "      <td>6</td>\n",
       "    </tr>\n",
       "    <tr>\n",
       "      <th>...</th>\n",
       "      <td>...</td>\n",
       "      <td>...</td>\n",
       "      <td>...</td>\n",
       "      <td>...</td>\n",
       "    </tr>\n",
       "    <tr>\n",
       "      <th>9995</th>\n",
       "      <td>9996</td>\n",
       "      <td>162121</td>\n",
       "      <td>American Fried: Adventures of a Happy Eater.</td>\n",
       "      <td>7</td>\n",
       "    </tr>\n",
       "    <tr>\n",
       "      <th>9996</th>\n",
       "      <td>9997</td>\n",
       "      <td>162121</td>\n",
       "      <td>Cannibal In Manhattan</td>\n",
       "      <td>9</td>\n",
       "    </tr>\n",
       "    <tr>\n",
       "      <th>9997</th>\n",
       "      <td>9998</td>\n",
       "      <td>162121</td>\n",
       "      <td>How to Flirt: A Practical Guide</td>\n",
       "      <td>7</td>\n",
       "    </tr>\n",
       "    <tr>\n",
       "      <th>9998</th>\n",
       "      <td>9999</td>\n",
       "      <td>162121</td>\n",
       "      <td>Twilight</td>\n",
       "      <td>8</td>\n",
       "    </tr>\n",
       "    <tr>\n",
       "      <th>9999</th>\n",
       "      <td>10000</td>\n",
       "      <td>162129</td>\n",
       "      <td>Kids Say the Darndest Things</td>\n",
       "      <td>6</td>\n",
       "    </tr>\n",
       "  </tbody>\n",
       "</table>\n",
       "<p>10000 rows × 4 columns</p>\n",
       "</div>"
      ],
      "text/plain": [
       "      Unnamed: 0  User.ID                                         Book.Title  \\\n",
       "0              1   276726                                Classical Mythology   \n",
       "1              2   276729                                       Clara Callan   \n",
       "2              3   276729                               Decision in Normandy   \n",
       "3              4   276736  Flu: The Story of the Great Influenza Pandemic...   \n",
       "4              5   276737                             The Mummies of Urumchi   \n",
       "...          ...      ...                                                ...   \n",
       "9995        9996   162121       American Fried: Adventures of a Happy Eater.   \n",
       "9996        9997   162121                              Cannibal In Manhattan   \n",
       "9997        9998   162121                    How to Flirt: A Practical Guide   \n",
       "9998        9999   162121                                           Twilight   \n",
       "9999       10000   162129                       Kids Say the Darndest Things   \n",
       "\n",
       "      Book.Rating  \n",
       "0               5  \n",
       "1               3  \n",
       "2               6  \n",
       "3               8  \n",
       "4               6  \n",
       "...           ...  \n",
       "9995            7  \n",
       "9996            9  \n",
       "9997            7  \n",
       "9998            8  \n",
       "9999            6  \n",
       "\n",
       "[10000 rows x 4 columns]"
      ]
     },
     "execution_count": 4,
     "metadata": {},
     "output_type": "execute_result"
    }
   ],
   "source": [
    "d = pd.read_csv(\"D:/ExcelR/Assignments/Recommendation/book.csv\",encoding= 'ISO-8859-1')\n",
    "d"
   ]
  },
  {
   "cell_type": "code",
   "execution_count": 5,
   "metadata": {
    "ExecuteTime": {
     "end_time": "2021-01-31T18:20:48.354301Z",
     "start_time": "2021-01-31T18:20:48.340305Z"
    }
   },
   "outputs": [],
   "source": [
    "d = d.drop('Unnamed: 0', axis=1)"
   ]
  },
  {
   "cell_type": "code",
   "execution_count": 6,
   "metadata": {
    "ExecuteTime": {
     "end_time": "2021-01-31T18:20:48.369229Z",
     "start_time": "2021-01-31T18:20:48.355265Z"
    }
   },
   "outputs": [],
   "source": [
    "d= d.rename({'User.ID':'userid','Book.Title':'title','Book.Rating':'rating'},axis=1)"
   ]
  },
  {
   "cell_type": "code",
   "execution_count": 7,
   "metadata": {
    "ExecuteTime": {
     "end_time": "2021-01-31T18:20:48.401180Z",
     "start_time": "2021-01-31T18:20:48.372222Z"
    }
   },
   "outputs": [
    {
     "name": "stdout",
     "output_type": "stream",
     "text": [
      "<class 'pandas.core.frame.DataFrame'>\n",
      "Int64Index: 7818 entries, 2 to 9998\n",
      "Data columns (total 3 columns):\n",
      " #   Column  Non-Null Count  Dtype \n",
      "---  ------  --------------  ----- \n",
      " 0   userid  7818 non-null   int64 \n",
      " 1   title   7818 non-null   object\n",
      " 2   rating  7818 non-null   int64 \n",
      "dtypes: int64(2), object(1)\n",
      "memory usage: 244.3+ KB\n"
     ]
    }
   ],
   "source": [
    "d[d.userid.duplicated()].info()"
   ]
  },
  {
   "cell_type": "code",
   "execution_count": 8,
   "metadata": {
    "ExecuteTime": {
     "end_time": "2021-01-31T18:20:48.432058Z",
     "start_time": "2021-01-31T18:20:48.405131Z"
    }
   },
   "outputs": [],
   "source": [
    "d=d.drop_duplicates()"
   ]
  },
  {
   "cell_type": "code",
   "execution_count": 9,
   "metadata": {
    "ExecuteTime": {
     "end_time": "2021-01-31T18:20:48.448051Z",
     "start_time": "2021-01-31T18:20:48.433056Z"
    }
   },
   "outputs": [
    {
     "name": "stdout",
     "output_type": "stream",
     "text": [
      "<class 'pandas.core.frame.DataFrame'>\n",
      "Int64Index: 9998 entries, 0 to 9999\n",
      "Data columns (total 3 columns):\n",
      " #   Column  Non-Null Count  Dtype \n",
      "---  ------  --------------  ----- \n",
      " 0   userid  9998 non-null   int64 \n",
      " 1   title   9998 non-null   object\n",
      " 2   rating  9998 non-null   int64 \n",
      "dtypes: int64(2), object(1)\n",
      "memory usage: 312.4+ KB\n"
     ]
    }
   ],
   "source": [
    "d.info()"
   ]
  },
  {
   "cell_type": "code",
   "execution_count": 10,
   "metadata": {
    "ExecuteTime": {
     "end_time": "2021-01-31T18:20:48.463974Z",
     "start_time": "2021-01-31T18:20:48.450018Z"
    }
   },
   "outputs": [
    {
     "data": {
      "text/plain": [
       "(7816, 3)"
      ]
     },
     "execution_count": 10,
     "metadata": {},
     "output_type": "execute_result"
    }
   ],
   "source": [
    "d[d.userid.duplicated()].shape"
   ]
  },
  {
   "cell_type": "code",
   "execution_count": 11,
   "metadata": {
    "ExecuteTime": {
     "end_time": "2021-01-31T18:20:51.612951Z",
     "start_time": "2021-01-31T18:20:48.464971Z"
    }
   },
   "outputs": [
    {
     "data": {
      "text/html": [
       "<div>\n",
       "<style scoped>\n",
       "    .dataframe tbody tr th:only-of-type {\n",
       "        vertical-align: middle;\n",
       "    }\n",
       "\n",
       "    .dataframe tbody tr th {\n",
       "        vertical-align: top;\n",
       "    }\n",
       "\n",
       "    .dataframe thead th {\n",
       "        text-align: right;\n",
       "    }\n",
       "</style>\n",
       "<table border=\"1\" class=\"dataframe\">\n",
       "  <thead>\n",
       "    <tr style=\"text-align: right;\">\n",
       "      <th>title</th>\n",
       "      <th>Jason, Madison &amp;amp</th>\n",
       "      <th>Other Stories;Merril;1985;McClelland &amp;amp</th>\n",
       "      <th>Repairing PC Drives &amp;amp</th>\n",
       "      <th>'48</th>\n",
       "      <th>'O Au No Keia: Voices from Hawai'I's Mahu and Transgender Communities</th>\n",
       "      <th>...AND THE HORSE HE RODE IN ON : THE PEOPLE V. KENNETH STARR</th>\n",
       "      <th>01-01-00: A Novel of the Millennium</th>\n",
       "      <th>1,401 More Things That P*Ss Me Off</th>\n",
       "      <th>10 Commandments Of Dating</th>\n",
       "      <th>100 Great Fantasy Short, Short Stories</th>\n",
       "      <th>...</th>\n",
       "      <th>Zora Hurston and the Chinaberry Tree (Reading Rainbow Book)</th>\n",
       "      <th>\\Even Monkeys Fall from Trees\\ and Other Japanese Proverbs</th>\n",
       "      <th>\\I Won't Learn from You\\: And Other Thoughts on Creative Maladjustment</th>\n",
       "      <th>\\More More More,\\ Said the Baby</th>\n",
       "      <th>\\O\\ Is for Outlaw</th>\n",
       "      <th>\\Surely You're Joking, Mr. Feynman!\\: Adventures of a Curious Character</th>\n",
       "      <th>\\Well, there's your problem\\: Cartoons</th>\n",
       "      <th>iI Paradiso Degli Orchi</th>\n",
       "      <th>stardust</th>\n",
       "      <th>Ã?Â?bermorgen.</th>\n",
       "    </tr>\n",
       "    <tr>\n",
       "      <th>userid</th>\n",
       "      <th></th>\n",
       "      <th></th>\n",
       "      <th></th>\n",
       "      <th></th>\n",
       "      <th></th>\n",
       "      <th></th>\n",
       "      <th></th>\n",
       "      <th></th>\n",
       "      <th></th>\n",
       "      <th></th>\n",
       "      <th></th>\n",
       "      <th></th>\n",
       "      <th></th>\n",
       "      <th></th>\n",
       "      <th></th>\n",
       "      <th></th>\n",
       "      <th></th>\n",
       "      <th></th>\n",
       "      <th></th>\n",
       "      <th></th>\n",
       "      <th></th>\n",
       "    </tr>\n",
       "  </thead>\n",
       "  <tbody>\n",
       "    <tr>\n",
       "      <th>8</th>\n",
       "      <td>0</td>\n",
       "      <td>0</td>\n",
       "      <td>0</td>\n",
       "      <td>0</td>\n",
       "      <td>0</td>\n",
       "      <td>0</td>\n",
       "      <td>0</td>\n",
       "      <td>0</td>\n",
       "      <td>0</td>\n",
       "      <td>0</td>\n",
       "      <td>...</td>\n",
       "      <td>0</td>\n",
       "      <td>0</td>\n",
       "      <td>0</td>\n",
       "      <td>0</td>\n",
       "      <td>0</td>\n",
       "      <td>0</td>\n",
       "      <td>0</td>\n",
       "      <td>0</td>\n",
       "      <td>0</td>\n",
       "      <td>0</td>\n",
       "    </tr>\n",
       "    <tr>\n",
       "      <th>9</th>\n",
       "      <td>0</td>\n",
       "      <td>0</td>\n",
       "      <td>0</td>\n",
       "      <td>0</td>\n",
       "      <td>0</td>\n",
       "      <td>0</td>\n",
       "      <td>0</td>\n",
       "      <td>0</td>\n",
       "      <td>0</td>\n",
       "      <td>0</td>\n",
       "      <td>...</td>\n",
       "      <td>0</td>\n",
       "      <td>0</td>\n",
       "      <td>0</td>\n",
       "      <td>0</td>\n",
       "      <td>0</td>\n",
       "      <td>0</td>\n",
       "      <td>0</td>\n",
       "      <td>0</td>\n",
       "      <td>0</td>\n",
       "      <td>0</td>\n",
       "    </tr>\n",
       "    <tr>\n",
       "      <th>10</th>\n",
       "      <td>0</td>\n",
       "      <td>0</td>\n",
       "      <td>0</td>\n",
       "      <td>0</td>\n",
       "      <td>0</td>\n",
       "      <td>0</td>\n",
       "      <td>0</td>\n",
       "      <td>0</td>\n",
       "      <td>0</td>\n",
       "      <td>0</td>\n",
       "      <td>...</td>\n",
       "      <td>0</td>\n",
       "      <td>0</td>\n",
       "      <td>0</td>\n",
       "      <td>0</td>\n",
       "      <td>0</td>\n",
       "      <td>0</td>\n",
       "      <td>0</td>\n",
       "      <td>0</td>\n",
       "      <td>0</td>\n",
       "      <td>0</td>\n",
       "    </tr>\n",
       "    <tr>\n",
       "      <th>12</th>\n",
       "      <td>0</td>\n",
       "      <td>0</td>\n",
       "      <td>0</td>\n",
       "      <td>0</td>\n",
       "      <td>0</td>\n",
       "      <td>0</td>\n",
       "      <td>0</td>\n",
       "      <td>0</td>\n",
       "      <td>0</td>\n",
       "      <td>0</td>\n",
       "      <td>...</td>\n",
       "      <td>0</td>\n",
       "      <td>0</td>\n",
       "      <td>0</td>\n",
       "      <td>0</td>\n",
       "      <td>0</td>\n",
       "      <td>0</td>\n",
       "      <td>0</td>\n",
       "      <td>0</td>\n",
       "      <td>0</td>\n",
       "      <td>0</td>\n",
       "    </tr>\n",
       "    <tr>\n",
       "      <th>14</th>\n",
       "      <td>0</td>\n",
       "      <td>0</td>\n",
       "      <td>0</td>\n",
       "      <td>0</td>\n",
       "      <td>0</td>\n",
       "      <td>0</td>\n",
       "      <td>0</td>\n",
       "      <td>0</td>\n",
       "      <td>0</td>\n",
       "      <td>0</td>\n",
       "      <td>...</td>\n",
       "      <td>0</td>\n",
       "      <td>0</td>\n",
       "      <td>0</td>\n",
       "      <td>0</td>\n",
       "      <td>0</td>\n",
       "      <td>0</td>\n",
       "      <td>0</td>\n",
       "      <td>0</td>\n",
       "      <td>0</td>\n",
       "      <td>0</td>\n",
       "    </tr>\n",
       "  </tbody>\n",
       "</table>\n",
       "<p>5 rows × 9659 columns</p>\n",
       "</div>"
      ],
      "text/plain": [
       "title    Jason, Madison &amp   Other Stories;Merril;1985;McClelland &amp  \\\n",
       "userid                                                                     \n",
       "8                          0                                           0   \n",
       "9                          0                                           0   \n",
       "10                         0                                           0   \n",
       "12                         0                                           0   \n",
       "14                         0                                           0   \n",
       "\n",
       "title    Repairing PC Drives &amp  '48  \\\n",
       "userid                                   \n",
       "8                               0    0   \n",
       "9                               0    0   \n",
       "10                              0    0   \n",
       "12                              0    0   \n",
       "14                              0    0   \n",
       "\n",
       "title   'O Au No Keia: Voices from Hawai'I's Mahu and Transgender Communities  \\\n",
       "userid                                                                          \n",
       "8                                                       0                       \n",
       "9                                                       0                       \n",
       "10                                                      0                       \n",
       "12                                                      0                       \n",
       "14                                                      0                       \n",
       "\n",
       "title   ...AND THE HORSE HE RODE IN ON : THE PEOPLE V. KENNETH STARR  \\\n",
       "userid                                                                 \n",
       "8                                                       0              \n",
       "9                                                       0              \n",
       "10                                                      0              \n",
       "12                                                      0              \n",
       "14                                                      0              \n",
       "\n",
       "title   01-01-00: A Novel of the Millennium  \\\n",
       "userid                                        \n",
       "8                                         0   \n",
       "9                                         0   \n",
       "10                                        0   \n",
       "12                                        0   \n",
       "14                                        0   \n",
       "\n",
       "title   1,401 More Things That P*Ss Me Off  10 Commandments Of Dating  \\\n",
       "userid                                                                  \n",
       "8                                        0                          0   \n",
       "9                                        0                          0   \n",
       "10                                       0                          0   \n",
       "12                                       0                          0   \n",
       "14                                       0                          0   \n",
       "\n",
       "title   100 Great Fantasy Short, Short Stories  ...  \\\n",
       "userid                                          ...   \n",
       "8                                            0  ...   \n",
       "9                                            0  ...   \n",
       "10                                           0  ...   \n",
       "12                                           0  ...   \n",
       "14                                           0  ...   \n",
       "\n",
       "title   Zora Hurston and the Chinaberry Tree (Reading Rainbow Book)  \\\n",
       "userid                                                                \n",
       "8                                                       0             \n",
       "9                                                       0             \n",
       "10                                                      0             \n",
       "12                                                      0             \n",
       "14                                                      0             \n",
       "\n",
       "title   \\Even Monkeys Fall from Trees\\ and Other Japanese Proverbs  \\\n",
       "userid                                                               \n",
       "8                                                       0            \n",
       "9                                                       0            \n",
       "10                                                      0            \n",
       "12                                                      0            \n",
       "14                                                      0            \n",
       "\n",
       "title   \\I Won't Learn from You\\: And Other Thoughts on Creative Maladjustment  \\\n",
       "userid                                                                           \n",
       "8                                                       0                        \n",
       "9                                                       0                        \n",
       "10                                                      0                        \n",
       "12                                                      0                        \n",
       "14                                                      0                        \n",
       "\n",
       "title   \\More More More,\\ Said the Baby  \\O\\ Is for Outlaw  \\\n",
       "userid                                                       \n",
       "8                                     0                  0   \n",
       "9                                     0                  0   \n",
       "10                                    0                  0   \n",
       "12                                    0                  0   \n",
       "14                                    0                  0   \n",
       "\n",
       "title   \\Surely You're Joking, Mr. Feynman!\\: Adventures of a Curious Character  \\\n",
       "userid                                                                            \n",
       "8                                                       0                         \n",
       "9                                                       0                         \n",
       "10                                                      0                         \n",
       "12                                                      0                         \n",
       "14                                                      0                         \n",
       "\n",
       "title   \\Well, there's your problem\\: Cartoons  iI Paradiso Degli Orchi  \\\n",
       "userid                                                                    \n",
       "8                                            0                        0   \n",
       "9                                            0                        0   \n",
       "10                                           0                        0   \n",
       "12                                           0                        0   \n",
       "14                                           0                        0   \n",
       "\n",
       "title   stardust  Ã?Â?bermorgen.  \n",
       "userid                            \n",
       "8              0               0  \n",
       "9              0               0  \n",
       "10             0               0  \n",
       "12             0               0  \n",
       "14             0               0  \n",
       "\n",
       "[5 rows x 9659 columns]"
      ]
     },
     "execution_count": 11,
     "metadata": {},
     "output_type": "execute_result"
    }
   ],
   "source": [
    "pd.crosstab(d.userid,d.title).head()"
   ]
  },
  {
   "cell_type": "code",
   "execution_count": 14,
   "metadata": {
    "ExecuteTime": {
     "end_time": "2021-01-31T18:23:18.022269Z",
     "start_time": "2021-01-31T18:23:18.001290Z"
    }
   },
   "outputs": [
    {
     "data": {
      "text/plain": [
       "2182"
      ]
     },
     "execution_count": 14,
     "metadata": {},
     "output_type": "execute_result"
    }
   ],
   "source": [
    "len(d.userid.unique())"
   ]
  },
  {
   "cell_type": "code",
   "execution_count": 15,
   "metadata": {
    "ExecuteTime": {
     "end_time": "2021-01-31T18:23:18.037221Z",
     "start_time": "2021-01-31T18:23:18.024228Z"
    }
   },
   "outputs": [
    {
     "data": {
      "text/plain": [
       "9659"
      ]
     },
     "execution_count": 15,
     "metadata": {},
     "output_type": "execute_result"
    }
   ],
   "source": [
    "len(d.title.unique())"
   ]
  },
  {
   "cell_type": "code",
   "execution_count": 17,
   "metadata": {
    "ExecuteTime": {
     "end_time": "2021-01-31T18:23:46.935768Z",
     "start_time": "2021-01-31T18:23:46.595596Z"
    }
   },
   "outputs": [
    {
     "data": {
      "image/png": "[encoded data removed]",
      "text/plain": [
       "<Figure size 432x288 with 1 Axes>"
      ]
     },
     "metadata": {
      "needs_background": "light"
     },
     "output_type": "display_data"
    }
   ],
   "source": [
    "import matplotlib.pyplot as plt\n",
    "plt.rc(\"font\", size=15)\n",
    "d.rating.value_counts(sort=False).plot(kind='bar')\n",
    "plt.title('Rating Distribution\\n')\n",
    "plt.xlabel('rating')\n",
    "plt.ylabel('Count')\n",
    "plt.show()"
   ]
  },
  {
   "cell_type": "code",
   "execution_count": 18,
   "metadata": {
    "ExecuteTime": {
     "end_time": "2021-01-31T18:23:52.881088Z",
     "start_time": "2021-01-31T18:23:52.856125Z"
    }
   },
   "outputs": [
    {
     "data": {
      "text/html": [
       "<div>\n",
       "<style scoped>\n",
       "    .dataframe tbody tr th:only-of-type {\n",
       "        vertical-align: middle;\n",
       "    }\n",
       "\n",
       "    .dataframe tbody tr th {\n",
       "        vertical-align: top;\n",
       "    }\n",
       "\n",
       "    .dataframe thead th {\n",
       "        text-align: right;\n",
       "    }\n",
       "</style>\n",
       "<table border=\"1\" class=\"dataframe\">\n",
       "  <thead>\n",
       "    <tr style=\"text-align: right;\">\n",
       "      <th></th>\n",
       "      <th>rating</th>\n",
       "    </tr>\n",
       "    <tr>\n",
       "      <th>title</th>\n",
       "      <th></th>\n",
       "    </tr>\n",
       "  </thead>\n",
       "  <tbody>\n",
       "    <tr>\n",
       "      <th>Fahrenheit 451</th>\n",
       "      <td>5</td>\n",
       "    </tr>\n",
       "    <tr>\n",
       "      <th>Vanished</th>\n",
       "      <td>4</td>\n",
       "    </tr>\n",
       "    <tr>\n",
       "      <th>Stardust</th>\n",
       "      <td>4</td>\n",
       "    </tr>\n",
       "    <tr>\n",
       "      <th>Ender's Game (Ender Wiggins Saga (Paperback))</th>\n",
       "      <td>4</td>\n",
       "    </tr>\n",
       "    <tr>\n",
       "      <th>The Subtle Knife (His Dark Materials, Book 2)</th>\n",
       "      <td>4</td>\n",
       "    </tr>\n",
       "  </tbody>\n",
       "</table>\n",
       "</div>"
      ],
      "text/plain": [
       "                                               rating\n",
       "title                                                \n",
       "Fahrenheit 451                                      5\n",
       "Vanished                                            4\n",
       "Stardust                                            4\n",
       "Ender's Game (Ender Wiggins Saga (Paperback))       4\n",
       "The Subtle Knife (His Dark Materials, Book 2)       4"
      ]
     },
     "execution_count": 18,
     "metadata": {},
     "output_type": "execute_result"
    }
   ],
   "source": [
    "rating_count = pd.DataFrame(d.groupby('title')['rating'].count())\n",
    "rating_count.sort_values('rating', ascending=False).head()"
   ]
  },
  {
   "cell_type": "code",
   "execution_count": 19,
   "metadata": {
    "ExecuteTime": {
     "end_time": "2021-01-31T18:23:53.228166Z",
     "start_time": "2021-01-31T18:23:52.883050Z"
    }
   },
   "outputs": [
    {
     "data": {
      "text/html": [
       "<div>\n",
       "<style scoped>\n",
       "    .dataframe tbody tr th:only-of-type {\n",
       "        vertical-align: middle;\n",
       "    }\n",
       "\n",
       "    .dataframe tbody tr th {\n",
       "        vertical-align: top;\n",
       "    }\n",
       "\n",
       "    .dataframe thead th {\n",
       "        text-align: right;\n",
       "    }\n",
       "</style>\n",
       "<table border=\"1\" class=\"dataframe\">\n",
       "  <thead>\n",
       "    <tr style=\"text-align: right;\">\n",
       "      <th>title</th>\n",
       "      <th>Jason, Madison &amp;amp</th>\n",
       "      <th>Other Stories;Merril;1985;McClelland &amp;amp</th>\n",
       "      <th>Repairing PC Drives &amp;amp</th>\n",
       "      <th>'48</th>\n",
       "      <th>'O Au No Keia: Voices from Hawai'I's Mahu and Transgender Communities</th>\n",
       "      <th>...AND THE HORSE HE RODE IN ON : THE PEOPLE V. KENNETH STARR</th>\n",
       "      <th>01-01-00: A Novel of the Millennium</th>\n",
       "      <th>1,401 More Things That P*Ss Me Off</th>\n",
       "      <th>10 Commandments Of Dating</th>\n",
       "      <th>100 Great Fantasy Short, Short Stories</th>\n",
       "      <th>...</th>\n",
       "      <th>Zora Hurston and the Chinaberry Tree (Reading Rainbow Book)</th>\n",
       "      <th>\\Even Monkeys Fall from Trees\\ and Other Japanese Proverbs</th>\n",
       "      <th>\\I Won't Learn from You\\: And Other Thoughts on Creative Maladjustment</th>\n",
       "      <th>\\More More More,\\ Said the Baby</th>\n",
       "      <th>\\O\\ Is for Outlaw</th>\n",
       "      <th>\\Surely You're Joking, Mr. Feynman!\\: Adventures of a Curious Character</th>\n",
       "      <th>\\Well, there's your problem\\: Cartoons</th>\n",
       "      <th>iI Paradiso Degli Orchi</th>\n",
       "      <th>stardust</th>\n",
       "      <th>Ã?Â?bermorgen.</th>\n",
       "    </tr>\n",
       "    <tr>\n",
       "      <th>userid</th>\n",
       "      <th></th>\n",
       "      <th></th>\n",
       "      <th></th>\n",
       "      <th></th>\n",
       "      <th></th>\n",
       "      <th></th>\n",
       "      <th></th>\n",
       "      <th></th>\n",
       "      <th></th>\n",
       "      <th></th>\n",
       "      <th></th>\n",
       "      <th></th>\n",
       "      <th></th>\n",
       "      <th></th>\n",
       "      <th></th>\n",
       "      <th></th>\n",
       "      <th></th>\n",
       "      <th></th>\n",
       "      <th></th>\n",
       "      <th></th>\n",
       "      <th></th>\n",
       "    </tr>\n",
       "  </thead>\n",
       "  <tbody>\n",
       "    <tr>\n",
       "      <th>8</th>\n",
       "      <td>NaN</td>\n",
       "      <td>NaN</td>\n",
       "      <td>NaN</td>\n",
       "      <td>NaN</td>\n",
       "      <td>NaN</td>\n",
       "      <td>NaN</td>\n",
       "      <td>NaN</td>\n",
       "      <td>NaN</td>\n",
       "      <td>NaN</td>\n",
       "      <td>NaN</td>\n",
       "      <td>...</td>\n",
       "      <td>NaN</td>\n",
       "      <td>NaN</td>\n",
       "      <td>NaN</td>\n",
       "      <td>NaN</td>\n",
       "      <td>NaN</td>\n",
       "      <td>NaN</td>\n",
       "      <td>NaN</td>\n",
       "      <td>NaN</td>\n",
       "      <td>NaN</td>\n",
       "      <td>NaN</td>\n",
       "    </tr>\n",
       "    <tr>\n",
       "      <th>9</th>\n",
       "      <td>NaN</td>\n",
       "      <td>NaN</td>\n",
       "      <td>NaN</td>\n",
       "      <td>NaN</td>\n",
       "      <td>NaN</td>\n",
       "      <td>NaN</td>\n",
       "      <td>NaN</td>\n",
       "      <td>NaN</td>\n",
       "      <td>NaN</td>\n",
       "      <td>NaN</td>\n",
       "      <td>...</td>\n",
       "      <td>NaN</td>\n",
       "      <td>NaN</td>\n",
       "      <td>NaN</td>\n",
       "      <td>NaN</td>\n",
       "      <td>NaN</td>\n",
       "      <td>NaN</td>\n",
       "      <td>NaN</td>\n",
       "      <td>NaN</td>\n",
       "      <td>NaN</td>\n",
       "      <td>NaN</td>\n",
       "    </tr>\n",
       "    <tr>\n",
       "      <th>10</th>\n",
       "      <td>NaN</td>\n",
       "      <td>NaN</td>\n",
       "      <td>NaN</td>\n",
       "      <td>NaN</td>\n",
       "      <td>NaN</td>\n",
       "      <td>NaN</td>\n",
       "      <td>NaN</td>\n",
       "      <td>NaN</td>\n",
       "      <td>NaN</td>\n",
       "      <td>NaN</td>\n",
       "      <td>...</td>\n",
       "      <td>NaN</td>\n",
       "      <td>NaN</td>\n",
       "      <td>NaN</td>\n",
       "      <td>NaN</td>\n",
       "      <td>NaN</td>\n",
       "      <td>NaN</td>\n",
       "      <td>NaN</td>\n",
       "      <td>NaN</td>\n",
       "      <td>NaN</td>\n",
       "      <td>NaN</td>\n",
       "    </tr>\n",
       "    <tr>\n",
       "      <th>12</th>\n",
       "      <td>NaN</td>\n",
       "      <td>NaN</td>\n",
       "      <td>NaN</td>\n",
       "      <td>NaN</td>\n",
       "      <td>NaN</td>\n",
       "      <td>NaN</td>\n",
       "      <td>NaN</td>\n",
       "      <td>NaN</td>\n",
       "      <td>NaN</td>\n",
       "      <td>NaN</td>\n",
       "      <td>...</td>\n",
       "      <td>NaN</td>\n",
       "      <td>NaN</td>\n",
       "      <td>NaN</td>\n",
       "      <td>NaN</td>\n",
       "      <td>NaN</td>\n",
       "      <td>NaN</td>\n",
       "      <td>NaN</td>\n",
       "      <td>NaN</td>\n",
       "      <td>NaN</td>\n",
       "      <td>NaN</td>\n",
       "    </tr>\n",
       "    <tr>\n",
       "      <th>14</th>\n",
       "      <td>NaN</td>\n",
       "      <td>NaN</td>\n",
       "      <td>NaN</td>\n",
       "      <td>NaN</td>\n",
       "      <td>NaN</td>\n",
       "      <td>NaN</td>\n",
       "      <td>NaN</td>\n",
       "      <td>NaN</td>\n",
       "      <td>NaN</td>\n",
       "      <td>NaN</td>\n",
       "      <td>...</td>\n",
       "      <td>NaN</td>\n",
       "      <td>NaN</td>\n",
       "      <td>NaN</td>\n",
       "      <td>NaN</td>\n",
       "      <td>NaN</td>\n",
       "      <td>NaN</td>\n",
       "      <td>NaN</td>\n",
       "      <td>NaN</td>\n",
       "      <td>NaN</td>\n",
       "      <td>NaN</td>\n",
       "    </tr>\n",
       "    <tr>\n",
       "      <th>...</th>\n",
       "      <td>...</td>\n",
       "      <td>...</td>\n",
       "      <td>...</td>\n",
       "      <td>...</td>\n",
       "      <td>...</td>\n",
       "      <td>...</td>\n",
       "      <td>...</td>\n",
       "      <td>...</td>\n",
       "      <td>...</td>\n",
       "      <td>...</td>\n",
       "      <td>...</td>\n",
       "      <td>...</td>\n",
       "      <td>...</td>\n",
       "      <td>...</td>\n",
       "      <td>...</td>\n",
       "      <td>...</td>\n",
       "      <td>...</td>\n",
       "      <td>...</td>\n",
       "      <td>...</td>\n",
       "      <td>...</td>\n",
       "      <td>...</td>\n",
       "    </tr>\n",
       "    <tr>\n",
       "      <th>278846</th>\n",
       "      <td>NaN</td>\n",
       "      <td>NaN</td>\n",
       "      <td>NaN</td>\n",
       "      <td>NaN</td>\n",
       "      <td>NaN</td>\n",
       "      <td>NaN</td>\n",
       "      <td>NaN</td>\n",
       "      <td>NaN</td>\n",
       "      <td>NaN</td>\n",
       "      <td>NaN</td>\n",
       "      <td>...</td>\n",
       "      <td>NaN</td>\n",
       "      <td>NaN</td>\n",
       "      <td>NaN</td>\n",
       "      <td>NaN</td>\n",
       "      <td>NaN</td>\n",
       "      <td>NaN</td>\n",
       "      <td>NaN</td>\n",
       "      <td>NaN</td>\n",
       "      <td>NaN</td>\n",
       "      <td>NaN</td>\n",
       "    </tr>\n",
       "    <tr>\n",
       "      <th>278849</th>\n",
       "      <td>NaN</td>\n",
       "      <td>NaN</td>\n",
       "      <td>NaN</td>\n",
       "      <td>NaN</td>\n",
       "      <td>NaN</td>\n",
       "      <td>NaN</td>\n",
       "      <td>NaN</td>\n",
       "      <td>NaN</td>\n",
       "      <td>NaN</td>\n",
       "      <td>NaN</td>\n",
       "      <td>...</td>\n",
       "      <td>NaN</td>\n",
       "      <td>NaN</td>\n",
       "      <td>NaN</td>\n",
       "      <td>NaN</td>\n",
       "      <td>NaN</td>\n",
       "      <td>NaN</td>\n",
       "      <td>NaN</td>\n",
       "      <td>NaN</td>\n",
       "      <td>NaN</td>\n",
       "      <td>NaN</td>\n",
       "    </tr>\n",
       "    <tr>\n",
       "      <th>278851</th>\n",
       "      <td>NaN</td>\n",
       "      <td>NaN</td>\n",
       "      <td>NaN</td>\n",
       "      <td>NaN</td>\n",
       "      <td>NaN</td>\n",
       "      <td>NaN</td>\n",
       "      <td>NaN</td>\n",
       "      <td>NaN</td>\n",
       "      <td>NaN</td>\n",
       "      <td>NaN</td>\n",
       "      <td>...</td>\n",
       "      <td>NaN</td>\n",
       "      <td>NaN</td>\n",
       "      <td>NaN</td>\n",
       "      <td>NaN</td>\n",
       "      <td>NaN</td>\n",
       "      <td>NaN</td>\n",
       "      <td>NaN</td>\n",
       "      <td>7.0</td>\n",
       "      <td>NaN</td>\n",
       "      <td>NaN</td>\n",
       "    </tr>\n",
       "    <tr>\n",
       "      <th>278852</th>\n",
       "      <td>NaN</td>\n",
       "      <td>NaN</td>\n",
       "      <td>NaN</td>\n",
       "      <td>NaN</td>\n",
       "      <td>NaN</td>\n",
       "      <td>NaN</td>\n",
       "      <td>NaN</td>\n",
       "      <td>NaN</td>\n",
       "      <td>NaN</td>\n",
       "      <td>NaN</td>\n",
       "      <td>...</td>\n",
       "      <td>NaN</td>\n",
       "      <td>NaN</td>\n",
       "      <td>NaN</td>\n",
       "      <td>NaN</td>\n",
       "      <td>NaN</td>\n",
       "      <td>NaN</td>\n",
       "      <td>NaN</td>\n",
       "      <td>NaN</td>\n",
       "      <td>NaN</td>\n",
       "      <td>NaN</td>\n",
       "    </tr>\n",
       "    <tr>\n",
       "      <th>278854</th>\n",
       "      <td>NaN</td>\n",
       "      <td>NaN</td>\n",
       "      <td>NaN</td>\n",
       "      <td>NaN</td>\n",
       "      <td>NaN</td>\n",
       "      <td>NaN</td>\n",
       "      <td>NaN</td>\n",
       "      <td>NaN</td>\n",
       "      <td>NaN</td>\n",
       "      <td>NaN</td>\n",
       "      <td>...</td>\n",
       "      <td>NaN</td>\n",
       "      <td>NaN</td>\n",
       "      <td>NaN</td>\n",
       "      <td>NaN</td>\n",
       "      <td>NaN</td>\n",
       "      <td>NaN</td>\n",
       "      <td>NaN</td>\n",
       "      <td>NaN</td>\n",
       "      <td>NaN</td>\n",
       "      <td>NaN</td>\n",
       "    </tr>\n",
       "  </tbody>\n",
       "</table>\n",
       "<p>2182 rows × 9659 columns</p>\n",
       "</div>"
      ],
      "text/plain": [
       "title    Jason, Madison &amp   Other Stories;Merril;1985;McClelland &amp  \\\n",
       "userid                                                                     \n",
       "8                        NaN                                         NaN   \n",
       "9                        NaN                                         NaN   \n",
       "10                       NaN                                         NaN   \n",
       "12                       NaN                                         NaN   \n",
       "14                       NaN                                         NaN   \n",
       "...                      ...                                         ...   \n",
       "278846                   NaN                                         NaN   \n",
       "278849                   NaN                                         NaN   \n",
       "278851                   NaN                                         NaN   \n",
       "278852                   NaN                                         NaN   \n",
       "278854                   NaN                                         NaN   \n",
       "\n",
       "title    Repairing PC Drives &amp  '48  \\\n",
       "userid                                   \n",
       "8                             NaN  NaN   \n",
       "9                             NaN  NaN   \n",
       "10                            NaN  NaN   \n",
       "12                            NaN  NaN   \n",
       "14                            NaN  NaN   \n",
       "...                           ...  ...   \n",
       "278846                        NaN  NaN   \n",
       "278849                        NaN  NaN   \n",
       "278851                        NaN  NaN   \n",
       "278852                        NaN  NaN   \n",
       "278854                        NaN  NaN   \n",
       "\n",
       "title   'O Au No Keia: Voices from Hawai'I's Mahu and Transgender Communities  \\\n",
       "userid                                                                          \n",
       "8                                                     NaN                       \n",
       "9                                                     NaN                       \n",
       "10                                                    NaN                       \n",
       "12                                                    NaN                       \n",
       "14                                                    NaN                       \n",
       "...                                                   ...                       \n",
       "278846                                                NaN                       \n",
       "278849                                                NaN                       \n",
       "278851                                                NaN                       \n",
       "278852                                                NaN                       \n",
       "278854                                                NaN                       \n",
       "\n",
       "title   ...AND THE HORSE HE RODE IN ON : THE PEOPLE V. KENNETH STARR  \\\n",
       "userid                                                                 \n",
       "8                                                     NaN              \n",
       "9                                                     NaN              \n",
       "10                                                    NaN              \n",
       "12                                                    NaN              \n",
       "14                                                    NaN              \n",
       "...                                                   ...              \n",
       "278846                                                NaN              \n",
       "278849                                                NaN              \n",
       "278851                                                NaN              \n",
       "278852                                                NaN              \n",
       "278854                                                NaN              \n",
       "\n",
       "title   01-01-00: A Novel of the Millennium  \\\n",
       "userid                                        \n",
       "8                                       NaN   \n",
       "9                                       NaN   \n",
       "10                                      NaN   \n",
       "12                                      NaN   \n",
       "14                                      NaN   \n",
       "...                                     ...   \n",
       "278846                                  NaN   \n",
       "278849                                  NaN   \n",
       "278851                                  NaN   \n",
       "278852                                  NaN   \n",
       "278854                                  NaN   \n",
       "\n",
       "title   1,401 More Things That P*Ss Me Off  10 Commandments Of Dating  \\\n",
       "userid                                                                  \n",
       "8                                      NaN                        NaN   \n",
       "9                                      NaN                        NaN   \n",
       "10                                     NaN                        NaN   \n",
       "12                                     NaN                        NaN   \n",
       "14                                     NaN                        NaN   \n",
       "...                                    ...                        ...   \n",
       "278846                                 NaN                        NaN   \n",
       "278849                                 NaN                        NaN   \n",
       "278851                                 NaN                        NaN   \n",
       "278852                                 NaN                        NaN   \n",
       "278854                                 NaN                        NaN   \n",
       "\n",
       "title   100 Great Fantasy Short, Short Stories  ...  \\\n",
       "userid                                          ...   \n",
       "8                                          NaN  ...   \n",
       "9                                          NaN  ...   \n",
       "10                                         NaN  ...   \n",
       "12                                         NaN  ...   \n",
       "14                                         NaN  ...   \n",
       "...                                        ...  ...   \n",
       "278846                                     NaN  ...   \n",
       "278849                                     NaN  ...   \n",
       "278851                                     NaN  ...   \n",
       "278852                                     NaN  ...   \n",
       "278854                                     NaN  ...   \n",
       "\n",
       "title   Zora Hurston and the Chinaberry Tree (Reading Rainbow Book)  \\\n",
       "userid                                                                \n",
       "8                                                     NaN             \n",
       "9                                                     NaN             \n",
       "10                                                    NaN             \n",
       "12                                                    NaN             \n",
       "14                                                    NaN             \n",
       "...                                                   ...             \n",
       "278846                                                NaN             \n",
       "278849                                                NaN             \n",
       "278851                                                NaN             \n",
       "278852                                                NaN             \n",
       "278854                                                NaN             \n",
       "\n",
       "title   \\Even Monkeys Fall from Trees\\ and Other Japanese Proverbs  \\\n",
       "userid                                                               \n",
       "8                                                     NaN            \n",
       "9                                                     NaN            \n",
       "10                                                    NaN            \n",
       "12                                                    NaN            \n",
       "14                                                    NaN            \n",
       "...                                                   ...            \n",
       "278846                                                NaN            \n",
       "278849                                                NaN            \n",
       "278851                                                NaN            \n",
       "278852                                                NaN            \n",
       "278854                                                NaN            \n",
       "\n",
       "title   \\I Won't Learn from You\\: And Other Thoughts on Creative Maladjustment  \\\n",
       "userid                                                                           \n",
       "8                                                     NaN                        \n",
       "9                                                     NaN                        \n",
       "10                                                    NaN                        \n",
       "12                                                    NaN                        \n",
       "14                                                    NaN                        \n",
       "...                                                   ...                        \n",
       "278846                                                NaN                        \n",
       "278849                                                NaN                        \n",
       "278851                                                NaN                        \n",
       "278852                                                NaN                        \n",
       "278854                                                NaN                        \n",
       "\n",
       "title   \\More More More,\\ Said the Baby  \\O\\ Is for Outlaw  \\\n",
       "userid                                                       \n",
       "8                                   NaN                NaN   \n",
       "9                                   NaN                NaN   \n",
       "10                                  NaN                NaN   \n",
       "12                                  NaN                NaN   \n",
       "14                                  NaN                NaN   \n",
       "...                                 ...                ...   \n",
       "278846                              NaN                NaN   \n",
       "278849                              NaN                NaN   \n",
       "278851                              NaN                NaN   \n",
       "278852                              NaN                NaN   \n",
       "278854                              NaN                NaN   \n",
       "\n",
       "title   \\Surely You're Joking, Mr. Feynman!\\: Adventures of a Curious Character  \\\n",
       "userid                                                                            \n",
       "8                                                     NaN                         \n",
       "9                                                     NaN                         \n",
       "10                                                    NaN                         \n",
       "12                                                    NaN                         \n",
       "14                                                    NaN                         \n",
       "...                                                   ...                         \n",
       "278846                                                NaN                         \n",
       "278849                                                NaN                         \n",
       "278851                                                NaN                         \n",
       "278852                                                NaN                         \n",
       "278854                                                NaN                         \n",
       "\n",
       "title   \\Well, there's your problem\\: Cartoons  iI Paradiso Degli Orchi  \\\n",
       "userid                                                                    \n",
       "8                                          NaN                      NaN   \n",
       "9                                          NaN                      NaN   \n",
       "10                                         NaN                      NaN   \n",
       "12                                         NaN                      NaN   \n",
       "14                                         NaN                      NaN   \n",
       "...                                        ...                      ...   \n",
       "278846                                     NaN                      NaN   \n",
       "278849                                     NaN                      NaN   \n",
       "278851                                     NaN                      7.0   \n",
       "278852                                     NaN                      NaN   \n",
       "278854                                     NaN                      NaN   \n",
       "\n",
       "title   stardust  Ã?Â?bermorgen.  \n",
       "userid                            \n",
       "8            NaN             NaN  \n",
       "9            NaN             NaN  \n",
       "10           NaN             NaN  \n",
       "12           NaN             NaN  \n",
       "14           NaN             NaN  \n",
       "...          ...             ...  \n",
       "278846       NaN             NaN  \n",
       "278849       NaN             NaN  \n",
       "278851       NaN             NaN  \n",
       "278852       NaN             NaN  \n",
       "278854       NaN             NaN  \n",
       "\n",
       "[2182 rows x 9659 columns]"
      ]
     },
     "execution_count": 19,
     "metadata": {},
     "output_type": "execute_result"
    }
   ],
   "source": [
    "book = d.pivot_table(index='userid',columns='title',values='rating')\n",
    "book"
   ]
  },
  {
   "cell_type": "code",
   "execution_count": 55,
   "metadata": {
    "ExecuteTime": {
     "end_time": "2021-01-31T18:39:26.191042Z",
     "start_time": "2021-01-31T18:39:25.741833Z"
    }
   },
   "outputs": [],
   "source": [
    "book.fillna(0, inplace=True)"
   ]
  },
  {
   "cell_type": "code",
   "execution_count": 20,
   "metadata": {
    "ExecuteTime": {
     "end_time": "2021-01-31T18:23:53.607634Z",
     "start_time": "2021-01-31T18:23:53.230102Z"
    }
   },
   "outputs": [
    {
     "name": "stdout",
     "output_type": "stream",
     "text": [
      "<class 'pandas.core.frame.DataFrame'>\n",
      "Int64Index: 2182 entries, 8 to 278854\n",
      "Columns: 9659 entries,  Jason, Madison &amp to Ã?Â?bermorgen.\n",
      "dtypes: float64(9659)\n",
      "memory usage: 160.8 MB\n"
     ]
    }
   ],
   "source": [
    "book.info()"
   ]
  },
  {
   "cell_type": "code",
   "execution_count": 21,
   "metadata": {
    "ExecuteTime": {
     "end_time": "2021-01-31T18:23:53.623623Z",
     "start_time": "2021-01-31T18:23:53.609628Z"
    }
   },
   "outputs": [
    {
     "data": {
      "text/html": [
       "<div>\n",
       "<style scoped>\n",
       "    .dataframe tbody tr th:only-of-type {\n",
       "        vertical-align: middle;\n",
       "    }\n",
       "\n",
       "    .dataframe tbody tr th {\n",
       "        vertical-align: top;\n",
       "    }\n",
       "\n",
       "    .dataframe thead th {\n",
       "        text-align: right;\n",
       "    }\n",
       "</style>\n",
       "<table border=\"1\" class=\"dataframe\">\n",
       "  <thead>\n",
       "    <tr style=\"text-align: right;\">\n",
       "      <th>title</th>\n",
       "      <th>Ancient Celtic Romances</th>\n",
       "      <th>Keepers of the Earth Teachers Guide</th>\n",
       "      <th>The Art Of Celtia</th>\n",
       "      <th>The Celts Activity Book</th>\n",
       "      <th>The Western way: A practical guide to the Western mystery tradition</th>\n",
       "      <th>Truckers</th>\n",
       "      <th>Wings</th>\n",
       "    </tr>\n",
       "    <tr>\n",
       "      <th>userid</th>\n",
       "      <th></th>\n",
       "      <th></th>\n",
       "      <th></th>\n",
       "      <th></th>\n",
       "      <th></th>\n",
       "      <th></th>\n",
       "      <th></th>\n",
       "    </tr>\n",
       "  </thead>\n",
       "  <tbody>\n",
       "    <tr>\n",
       "      <th>8</th>\n",
       "      <td>5.0</td>\n",
       "      <td>6.0</td>\n",
       "      <td>7.0</td>\n",
       "      <td>6.0</td>\n",
       "      <td>5.0</td>\n",
       "      <td>5.0</td>\n",
       "      <td>5.0</td>\n",
       "    </tr>\n",
       "  </tbody>\n",
       "</table>\n",
       "</div>"
      ],
      "text/plain": [
       "title   Ancient Celtic Romances  Keepers of the Earth Teachers Guide  \\\n",
       "userid                                                                 \n",
       "8                           5.0                                  6.0   \n",
       "\n",
       "title   The Art Of Celtia  The Celts Activity Book  \\\n",
       "userid                                               \n",
       "8                     7.0                      6.0   \n",
       "\n",
       "title   The Western way: A practical guide to the Western mystery tradition  \\\n",
       "userid                                                                        \n",
       "8                                                     5.0                     \n",
       "\n",
       "title   Truckers  Wings  \n",
       "userid                   \n",
       "8            5.0    5.0  "
      ]
     },
     "execution_count": 21,
     "metadata": {},
     "output_type": "execute_result"
    }
   ],
   "source": [
    "book.iloc[:1,:].dropna(axis=1)"
   ]
  },
  {
   "cell_type": "code",
   "execution_count": 22,
   "metadata": {
    "ExecuteTime": {
     "end_time": "2021-01-31T18:23:53.655537Z",
     "start_time": "2021-01-31T18:23:53.624588Z"
    }
   },
   "outputs": [
    {
     "data": {
      "text/plain": [
       "title\n",
       "Clear Light of Day                                         10.0\n",
       "Substitute Teaching: A Handbook for Hassle-Free Subbing    10.0\n",
       "Daughter of Camelot (Merlin's Legacy, No 6)                10.0\n",
       "The Resourceful English Teacher                            10.0\n",
       "Das verbotene Lied.                                        10.0\n",
       "                                                           ... \n",
       "Time and Chance                                             1.0\n",
       "Upsetting the Balance (Worldwar Series, Volume 3)           1.0\n",
       "Having Our Say: The Delany Sisters' First 100 Years         1.0\n",
       "Saucer                                                      1.0\n",
       "THIS SIDE OF PARADISE (A Scribner Classic)                  1.0\n",
       "Name: rating, Length: 9659, dtype: float64"
      ]
     },
     "execution_count": 22,
     "metadata": {},
     "output_type": "execute_result"
    }
   ],
   "source": [
    "d.groupby('title')['rating'].mean().sort_values(ascending=False)"
   ]
  },
  {
   "cell_type": "code",
   "execution_count": 23,
   "metadata": {
    "ExecuteTime": {
     "end_time": "2021-01-31T18:23:53.687419Z",
     "start_time": "2021-01-31T18:23:53.656502Z"
    }
   },
   "outputs": [
    {
     "data": {
      "text/plain": [
       "title\n",
       "Fahrenheit 451                                                                                  5\n",
       "The Amber Spyglass (His Dark Materials, Book 3)                                                 4\n",
       "The Subtle Knife (His Dark Materials, Book 2)                                                   4\n",
       "Ender's Game (Ender Wiggins Saga (Paperback))                                                   4\n",
       "Vanished                                                                                        4\n",
       "                                                                                               ..\n",
       "Son of \\It Was a Dark and Stormy Night\\: More of the Best (? from the Bulwer-Lytton Contest)    1\n",
       "Son Rise: The Miracle Continues                                                                 1\n",
       "Sommer Ende Zwanzig.                                                                            1\n",
       "Somewhere, Someday                                                                              1\n",
       " Jason, Madison &amp                                                                            1\n",
       "Name: rating, Length: 9659, dtype: int64"
      ]
     },
     "execution_count": 23,
     "metadata": {},
     "output_type": "execute_result"
    }
   ],
   "source": [
    "d.groupby('title')['rating'].count().sort_values(ascending=False)"
   ]
  },
  {
   "cell_type": "code",
   "execution_count": 24,
   "metadata": {
    "ExecuteTime": {
     "end_time": "2021-01-31T18:23:53.719519Z",
     "start_time": "2021-01-31T18:23:53.689413Z"
    }
   },
   "outputs": [
    {
     "data": {
      "text/html": [
       "<div>\n",
       "<style scoped>\n",
       "    .dataframe tbody tr th:only-of-type {\n",
       "        vertical-align: middle;\n",
       "    }\n",
       "\n",
       "    .dataframe tbody tr th {\n",
       "        vertical-align: top;\n",
       "    }\n",
       "\n",
       "    .dataframe thead th {\n",
       "        text-align: right;\n",
       "    }\n",
       "</style>\n",
       "<table border=\"1\" class=\"dataframe\">\n",
       "  <thead>\n",
       "    <tr style=\"text-align: right;\">\n",
       "      <th></th>\n",
       "      <th>rating</th>\n",
       "    </tr>\n",
       "    <tr>\n",
       "      <th>title</th>\n",
       "      <th></th>\n",
       "    </tr>\n",
       "  </thead>\n",
       "  <tbody>\n",
       "    <tr>\n",
       "      <th>Jason, Madison &amp;amp</th>\n",
       "      <td>8.0</td>\n",
       "    </tr>\n",
       "    <tr>\n",
       "      <th>Other Stories;Merril;1985;McClelland &amp;amp</th>\n",
       "      <td>6.0</td>\n",
       "    </tr>\n",
       "    <tr>\n",
       "      <th>Repairing PC Drives &amp;amp</th>\n",
       "      <td>4.0</td>\n",
       "    </tr>\n",
       "    <tr>\n",
       "      <th>'48</th>\n",
       "      <td>7.0</td>\n",
       "    </tr>\n",
       "    <tr>\n",
       "      <th>'O Au No Keia: Voices from Hawai'I's Mahu and Transgender Communities</th>\n",
       "      <td>8.0</td>\n",
       "    </tr>\n",
       "  </tbody>\n",
       "</table>\n",
       "</div>"
      ],
      "text/plain": [
       "                                                    rating\n",
       "title                                                     \n",
       " Jason, Madison &amp                                   8.0\n",
       " Other Stories;Merril;1985;McClelland &amp             6.0\n",
       " Repairing PC Drives &amp                              4.0\n",
       "'48                                                    7.0\n",
       "'O Au No Keia: Voices from Hawai'I's Mahu and T...     8.0"
      ]
     },
     "execution_count": 24,
     "metadata": {},
     "output_type": "execute_result"
    }
   ],
   "source": [
    "ratings = pd.DataFrame(d.groupby('title')['rating'].mean())\n",
    "ratings.head()"
   ]
  },
  {
   "cell_type": "code",
   "execution_count": 25,
   "metadata": {
    "ExecuteTime": {
     "end_time": "2021-01-31T18:23:53.750600Z",
     "start_time": "2021-01-31T18:23:53.722488Z"
    }
   },
   "outputs": [
    {
     "data": {
      "text/html": [
       "<div>\n",
       "<style scoped>\n",
       "    .dataframe tbody tr th:only-of-type {\n",
       "        vertical-align: middle;\n",
       "    }\n",
       "\n",
       "    .dataframe tbody tr th {\n",
       "        vertical-align: top;\n",
       "    }\n",
       "\n",
       "    .dataframe thead th {\n",
       "        text-align: right;\n",
       "    }\n",
       "</style>\n",
       "<table border=\"1\" class=\"dataframe\">\n",
       "  <thead>\n",
       "    <tr style=\"text-align: right;\">\n",
       "      <th></th>\n",
       "      <th>rating</th>\n",
       "      <th>num of ratings</th>\n",
       "    </tr>\n",
       "    <tr>\n",
       "      <th>title</th>\n",
       "      <th></th>\n",
       "      <th></th>\n",
       "    </tr>\n",
       "  </thead>\n",
       "  <tbody>\n",
       "    <tr>\n",
       "      <th>Fahrenheit 451</th>\n",
       "      <td>7.00</td>\n",
       "      <td>5</td>\n",
       "    </tr>\n",
       "    <tr>\n",
       "      <th>Vanished</th>\n",
       "      <td>6.50</td>\n",
       "      <td>4</td>\n",
       "    </tr>\n",
       "    <tr>\n",
       "      <th>Stardust</th>\n",
       "      <td>8.50</td>\n",
       "      <td>4</td>\n",
       "    </tr>\n",
       "    <tr>\n",
       "      <th>Ender's Game (Ender Wiggins Saga (Paperback))</th>\n",
       "      <td>6.25</td>\n",
       "      <td>4</td>\n",
       "    </tr>\n",
       "    <tr>\n",
       "      <th>The Subtle Knife (His Dark Materials, Book 2)</th>\n",
       "      <td>8.75</td>\n",
       "      <td>4</td>\n",
       "    </tr>\n",
       "    <tr>\n",
       "      <th>...</th>\n",
       "      <td>...</td>\n",
       "      <td>...</td>\n",
       "    </tr>\n",
       "    <tr>\n",
       "      <th>His-And-Hers Twins (Harlequin American Romance, No. 820)</th>\n",
       "      <td>10.00</td>\n",
       "      <td>1</td>\n",
       "    </tr>\n",
       "    <tr>\n",
       "      <th>Histoires Extraordinaires</th>\n",
       "      <td>7.00</td>\n",
       "      <td>1</td>\n",
       "    </tr>\n",
       "    <tr>\n",
       "      <th>Historia de la vida del BuscÃ³n (Selecciones Austral ; 24 : ClÃ¡sicos)</th>\n",
       "      <td>10.00</td>\n",
       "      <td>1</td>\n",
       "    </tr>\n",
       "    <tr>\n",
       "      <th>Historical Whodunits</th>\n",
       "      <td>8.00</td>\n",
       "      <td>1</td>\n",
       "    </tr>\n",
       "    <tr>\n",
       "      <th>Ã?Â?bermorgen.</th>\n",
       "      <td>4.00</td>\n",
       "      <td>1</td>\n",
       "    </tr>\n",
       "  </tbody>\n",
       "</table>\n",
       "<p>9659 rows × 2 columns</p>\n",
       "</div>"
      ],
      "text/plain": [
       "                                                    rating  num of ratings\n",
       "title                                                                     \n",
       "Fahrenheit 451                                        7.00               5\n",
       "Vanished                                              6.50               4\n",
       "Stardust                                              8.50               4\n",
       "Ender's Game (Ender Wiggins Saga (Paperback))         6.25               4\n",
       "The Subtle Knife (His Dark Materials, Book 2)         8.75               4\n",
       "...                                                    ...             ...\n",
       "His-And-Hers Twins (Harlequin American Romance,...   10.00               1\n",
       "Histoires Extraordinaires                             7.00               1\n",
       "Historia de la vida del BuscÃ³n (Selecciones Au...   10.00               1\n",
       "Historical Whodunits                                  8.00               1\n",
       "Ã?Â?bermorgen.                                        4.00               1\n",
       "\n",
       "[9659 rows x 2 columns]"
      ]
     },
     "execution_count": 25,
     "metadata": {},
     "output_type": "execute_result"
    }
   ],
   "source": [
    "ratings['num of ratings'] = pd.DataFrame(d.groupby('title')['rating'].count())\n",
    "ratings.sort_values('num of ratings', ascending=False)"
   ]
  },
  {
   "cell_type": "code",
   "execution_count": 26,
   "metadata": {
    "ExecuteTime": {
     "end_time": "2021-01-31T18:23:53.766516Z",
     "start_time": "2021-01-31T18:23:53.752551Z"
    }
   },
   "outputs": [
    {
     "data": {
      "text/html": [
       "<div>\n",
       "<style scoped>\n",
       "    .dataframe tbody tr th:only-of-type {\n",
       "        vertical-align: middle;\n",
       "    }\n",
       "\n",
       "    .dataframe tbody tr th {\n",
       "        vertical-align: top;\n",
       "    }\n",
       "\n",
       "    .dataframe thead th {\n",
       "        text-align: right;\n",
       "    }\n",
       "</style>\n",
       "<table border=\"1\" class=\"dataframe\">\n",
       "  <thead>\n",
       "    <tr style=\"text-align: right;\">\n",
       "      <th></th>\n",
       "      <th>rating</th>\n",
       "      <th>num of ratings</th>\n",
       "    </tr>\n",
       "    <tr>\n",
       "      <th>title</th>\n",
       "      <th></th>\n",
       "      <th></th>\n",
       "    </tr>\n",
       "  </thead>\n",
       "  <tbody>\n",
       "    <tr>\n",
       "      <th>Fahrenheit 451</th>\n",
       "      <td>7.000000</td>\n",
       "      <td>5</td>\n",
       "    </tr>\n",
       "    <tr>\n",
       "      <th>Vanished</th>\n",
       "      <td>6.500000</td>\n",
       "      <td>4</td>\n",
       "    </tr>\n",
       "    <tr>\n",
       "      <th>Stardust</th>\n",
       "      <td>8.500000</td>\n",
       "      <td>4</td>\n",
       "    </tr>\n",
       "    <tr>\n",
       "      <th>Ender's Game (Ender Wiggins Saga (Paperback))</th>\n",
       "      <td>6.250000</td>\n",
       "      <td>4</td>\n",
       "    </tr>\n",
       "    <tr>\n",
       "      <th>The Subtle Knife (His Dark Materials, Book 2)</th>\n",
       "      <td>8.750000</td>\n",
       "      <td>4</td>\n",
       "    </tr>\n",
       "    <tr>\n",
       "      <th>The Amber Spyglass (His Dark Materials, Book 3)</th>\n",
       "      <td>8.250000</td>\n",
       "      <td>4</td>\n",
       "    </tr>\n",
       "    <tr>\n",
       "      <th>Charlie and the Chocolate Factory</th>\n",
       "      <td>6.500000</td>\n",
       "      <td>4</td>\n",
       "    </tr>\n",
       "    <tr>\n",
       "      <th>The Hitchhiker's Guide to the Galaxy</th>\n",
       "      <td>8.333333</td>\n",
       "      <td>3</td>\n",
       "    </tr>\n",
       "    <tr>\n",
       "      <th>The Golden Compass (His Dark Materials, Book 1)</th>\n",
       "      <td>8.333333</td>\n",
       "      <td>3</td>\n",
       "    </tr>\n",
       "    <tr>\n",
       "      <th>My Side of the Mountain</th>\n",
       "      <td>8.000000</td>\n",
       "      <td>3</td>\n",
       "    </tr>\n",
       "  </tbody>\n",
       "</table>\n",
       "</div>"
      ],
      "text/plain": [
       "                                                   rating  num of ratings\n",
       "title                                                                    \n",
       "Fahrenheit 451                                   7.000000               5\n",
       "Vanished                                         6.500000               4\n",
       "Stardust                                         8.500000               4\n",
       "Ender's Game (Ender Wiggins Saga (Paperback))    6.250000               4\n",
       "The Subtle Knife (His Dark Materials, Book 2)    8.750000               4\n",
       "The Amber Spyglass (His Dark Materials, Book 3)  8.250000               4\n",
       "Charlie and the Chocolate Factory                6.500000               4\n",
       "The Hitchhiker's Guide to the Galaxy             8.333333               3\n",
       "The Golden Compass (His Dark Materials, Book 1)  8.333333               3\n",
       "My Side of the Mountain                          8.000000               3"
      ]
     },
     "execution_count": 26,
     "metadata": {},
     "output_type": "execute_result"
    }
   ],
   "source": [
    "ratings.sort_values('num of ratings',ascending=False).head(10)"
   ]
  },
  {
   "cell_type": "code",
   "execution_count": 27,
   "metadata": {
    "ExecuteTime": {
     "end_time": "2021-01-31T18:23:54.697608Z",
     "start_time": "2021-01-31T18:23:53.768510Z"
    }
   },
   "outputs": [
    {
     "data": {
      "text/plain": [
       "<matplotlib.axes._subplots.AxesSubplot at 0x25197825580>"
      ]
     },
     "execution_count": 27,
     "metadata": {},
     "output_type": "execute_result"
    },
    {
     "data": {
      "image/png": "[encoded data removed]",
      "text/plain": [
       "<Figure size 720x288 with 1 Axes>"
      ]
     },
     "metadata": {
      "needs_background": "light"
     },
     "output_type": "display_data"
    }
   ],
   "source": [
    "import matplotlib.pyplot as plt\n",
    "import seaborn as sns\n",
    "sns.set_style('white')\n",
    "%matplotlib inline\n",
    "plt.figure(figsize=(10,4))\n",
    "ratings['rating'].hist(bins=70)"
   ]
  },
  {
   "cell_type": "code",
   "execution_count": 28,
   "metadata": {
    "ExecuteTime": {
     "end_time": "2021-01-31T18:23:55.012471Z",
     "start_time": "2021-01-31T18:23:54.699589Z"
    }
   },
   "outputs": [
    {
     "data": {
      "text/plain": [
       "<matplotlib.axes._subplots.AxesSubplot at 0x25198a550d0>"
      ]
     },
     "execution_count": 28,
     "metadata": {},
     "output_type": "execute_result"
    },
    {
     "data": {
      "image/png": "[encoded data removed]",
      "text/plain": [
       "<Figure size 720x288 with 1 Axes>"
      ]
     },
     "metadata": {
      "needs_background": "light"
     },
     "output_type": "display_data"
    }
   ],
   "source": [
    "plt.figure(figsize=(10,4))\n",
    "ratings['num of ratings'].hist(bins=70)"
   ]
  },
  {
   "cell_type": "code",
   "execution_count": 29,
   "metadata": {
    "ExecuteTime": {
     "end_time": "2021-01-31T18:23:55.028434Z",
     "start_time": "2021-01-31T18:23:55.013437Z"
    }
   },
   "outputs": [
    {
     "data": {
      "text/html": [
       "<div>\n",
       "<style scoped>\n",
       "    .dataframe tbody tr th:only-of-type {\n",
       "        vertical-align: middle;\n",
       "    }\n",
       "\n",
       "    .dataframe tbody tr th {\n",
       "        vertical-align: top;\n",
       "    }\n",
       "\n",
       "    .dataframe thead th {\n",
       "        text-align: right;\n",
       "    }\n",
       "</style>\n",
       "<table border=\"1\" class=\"dataframe\">\n",
       "  <thead>\n",
       "    <tr style=\"text-align: right;\">\n",
       "      <th></th>\n",
       "      <th>rating</th>\n",
       "      <th>num of ratings</th>\n",
       "    </tr>\n",
       "    <tr>\n",
       "      <th>title</th>\n",
       "      <th></th>\n",
       "      <th></th>\n",
       "    </tr>\n",
       "  </thead>\n",
       "  <tbody>\n",
       "    <tr>\n",
       "      <th>Fahrenheit 451</th>\n",
       "      <td>7.000000</td>\n",
       "      <td>5</td>\n",
       "    </tr>\n",
       "    <tr>\n",
       "      <th>Vanished</th>\n",
       "      <td>6.500000</td>\n",
       "      <td>4</td>\n",
       "    </tr>\n",
       "    <tr>\n",
       "      <th>Stardust</th>\n",
       "      <td>8.500000</td>\n",
       "      <td>4</td>\n",
       "    </tr>\n",
       "    <tr>\n",
       "      <th>Ender's Game (Ender Wiggins Saga (Paperback))</th>\n",
       "      <td>6.250000</td>\n",
       "      <td>4</td>\n",
       "    </tr>\n",
       "    <tr>\n",
       "      <th>The Subtle Knife (His Dark Materials, Book 2)</th>\n",
       "      <td>8.750000</td>\n",
       "      <td>4</td>\n",
       "    </tr>\n",
       "    <tr>\n",
       "      <th>The Amber Spyglass (His Dark Materials, Book 3)</th>\n",
       "      <td>8.250000</td>\n",
       "      <td>4</td>\n",
       "    </tr>\n",
       "    <tr>\n",
       "      <th>Charlie and the Chocolate Factory</th>\n",
       "      <td>6.500000</td>\n",
       "      <td>4</td>\n",
       "    </tr>\n",
       "    <tr>\n",
       "      <th>The Hitchhiker's Guide to the Galaxy</th>\n",
       "      <td>8.333333</td>\n",
       "      <td>3</td>\n",
       "    </tr>\n",
       "    <tr>\n",
       "      <th>The Golden Compass (His Dark Materials, Book 1)</th>\n",
       "      <td>8.333333</td>\n",
       "      <td>3</td>\n",
       "    </tr>\n",
       "    <tr>\n",
       "      <th>My Side of the Mountain</th>\n",
       "      <td>8.000000</td>\n",
       "      <td>3</td>\n",
       "    </tr>\n",
       "  </tbody>\n",
       "</table>\n",
       "</div>"
      ],
      "text/plain": [
       "                                                   rating  num of ratings\n",
       "title                                                                    \n",
       "Fahrenheit 451                                   7.000000               5\n",
       "Vanished                                         6.500000               4\n",
       "Stardust                                         8.500000               4\n",
       "Ender's Game (Ender Wiggins Saga (Paperback))    6.250000               4\n",
       "The Subtle Knife (His Dark Materials, Book 2)    8.750000               4\n",
       "The Amber Spyglass (His Dark Materials, Book 3)  8.250000               4\n",
       "Charlie and the Chocolate Factory                6.500000               4\n",
       "The Hitchhiker's Guide to the Galaxy             8.333333               3\n",
       "The Golden Compass (His Dark Materials, Book 1)  8.333333               3\n",
       "My Side of the Mountain                          8.000000               3"
      ]
     },
     "execution_count": 29,
     "metadata": {},
     "output_type": "execute_result"
    }
   ],
   "source": [
    "ratings.sort_values('num of ratings',ascending=False).head(10)"
   ]
  },
  {
   "cell_type": "code",
   "execution_count": 30,
   "metadata": {
    "ExecuteTime": {
     "end_time": "2021-01-31T18:23:55.044385Z",
     "start_time": "2021-01-31T18:23:55.030424Z"
    }
   },
   "outputs": [
    {
     "data": {
      "text/plain": [
       "userid\n",
       "2355      8.0\n",
       "2442      5.0\n",
       "161234    6.0\n",
       "277284    7.0\n",
       "Name: Vanished, dtype: float64"
      ]
     },
     "execution_count": 30,
     "metadata": {},
     "output_type": "execute_result"
    }
   ],
   "source": [
    "vanished_user_ratings = book['Vanished']\n",
    "vanished_user_ratings.dropna()"
   ]
  },
  {
   "cell_type": "code",
   "execution_count": 31,
   "metadata": {
    "ExecuteTime": {
     "end_time": "2021-01-31T18:23:56.198997Z",
     "start_time": "2021-01-31T18:23:55.045352Z"
    }
   },
   "outputs": [
    {
     "name": "stderr",
     "output_type": "stream",
     "text": [
      "C:\\Users\\Mr.Cool\\anaconda3\\lib\\site-packages\\numpy\\lib\\function_base.py:2526: RuntimeWarning: Degrees of freedom <= 0 for slice\n",
      "  c = cov(x, y, rowvar)\n",
      "C:\\Users\\Mr.Cool\\anaconda3\\lib\\site-packages\\numpy\\lib\\function_base.py:2455: RuntimeWarning: divide by zero encountered in true_divide\n",
      "  c *= np.true_divide(1, fact)\n"
     ]
    }
   ],
   "source": [
    "similar_to_vanished = book.corrwith(vanished_user_ratings)"
   ]
  },
  {
   "cell_type": "code",
   "execution_count": 32,
   "metadata": {
    "ExecuteTime": {
     "end_time": "2021-01-31T18:23:56.214956Z",
     "start_time": "2021-01-31T18:23:56.200987Z"
    }
   },
   "outputs": [
    {
     "data": {
      "text/html": [
       "<div>\n",
       "<style scoped>\n",
       "    .dataframe tbody tr th:only-of-type {\n",
       "        vertical-align: middle;\n",
       "    }\n",
       "\n",
       "    .dataframe tbody tr th {\n",
       "        vertical-align: top;\n",
       "    }\n",
       "\n",
       "    .dataframe thead th {\n",
       "        text-align: right;\n",
       "    }\n",
       "</style>\n",
       "<table border=\"1\" class=\"dataframe\">\n",
       "  <thead>\n",
       "    <tr style=\"text-align: right;\">\n",
       "      <th></th>\n",
       "      <th>Correlation</th>\n",
       "    </tr>\n",
       "    <tr>\n",
       "      <th>title</th>\n",
       "      <th></th>\n",
       "    </tr>\n",
       "  </thead>\n",
       "  <tbody>\n",
       "    <tr>\n",
       "      <th>Vanished</th>\n",
       "      <td>1.0</td>\n",
       "    </tr>\n",
       "  </tbody>\n",
       "</table>\n",
       "</div>"
      ],
      "text/plain": [
       "          Correlation\n",
       "title                \n",
       "Vanished          1.0"
      ]
     },
     "execution_count": 32,
     "metadata": {},
     "output_type": "execute_result"
    }
   ],
   "source": [
    "corr_vanished = pd.DataFrame(similar_to_vanished,columns=['Correlation'])\n",
    "corr_vanished.dropna(inplace=True)\n",
    "corr_vanished"
   ]
  },
  {
   "cell_type": "markdown",
   "metadata": {},
   "source": [
    "## Since Many books are uncorrelated with respect to users we use item similarity\n",
    "## We will recommend books based on user-user similarity and item-item similarity. "
   ]
  },
  {
   "cell_type": "code",
   "execution_count": 39,
   "metadata": {
    "ExecuteTime": {
     "end_time": "2021-01-31T18:33:01.447564Z",
     "start_time": "2021-01-31T18:33:01.435596Z"
    }
   },
   "outputs": [
    {
     "data": {
      "text/html": [
       "<div>\n",
       "<style scoped>\n",
       "    .dataframe tbody tr th:only-of-type {\n",
       "        vertical-align: middle;\n",
       "    }\n",
       "\n",
       "    .dataframe tbody tr th {\n",
       "        vertical-align: top;\n",
       "    }\n",
       "\n",
       "    .dataframe thead th {\n",
       "        text-align: right;\n",
       "    }\n",
       "</style>\n",
       "<table border=\"1\" class=\"dataframe\">\n",
       "  <thead>\n",
       "    <tr style=\"text-align: right;\">\n",
       "      <th></th>\n",
       "      <th>userid</th>\n",
       "      <th>title</th>\n",
       "      <th>rating</th>\n",
       "    </tr>\n",
       "  </thead>\n",
       "  <tbody>\n",
       "    <tr>\n",
       "      <th>0</th>\n",
       "      <td>276726</td>\n",
       "      <td>Classical Mythology</td>\n",
       "      <td>5</td>\n",
       "    </tr>\n",
       "    <tr>\n",
       "      <th>1</th>\n",
       "      <td>276729</td>\n",
       "      <td>Clara Callan</td>\n",
       "      <td>3</td>\n",
       "    </tr>\n",
       "    <tr>\n",
       "      <th>2</th>\n",
       "      <td>276729</td>\n",
       "      <td>Decision in Normandy</td>\n",
       "      <td>6</td>\n",
       "    </tr>\n",
       "    <tr>\n",
       "      <th>3</th>\n",
       "      <td>276736</td>\n",
       "      <td>Flu: The Story of the Great Influenza Pandemic...</td>\n",
       "      <td>8</td>\n",
       "    </tr>\n",
       "    <tr>\n",
       "      <th>4</th>\n",
       "      <td>276737</td>\n",
       "      <td>The Mummies of Urumchi</td>\n",
       "      <td>6</td>\n",
       "    </tr>\n",
       "    <tr>\n",
       "      <th>...</th>\n",
       "      <td>...</td>\n",
       "      <td>...</td>\n",
       "      <td>...</td>\n",
       "    </tr>\n",
       "    <tr>\n",
       "      <th>9995</th>\n",
       "      <td>162121</td>\n",
       "      <td>American Fried: Adventures of a Happy Eater.</td>\n",
       "      <td>7</td>\n",
       "    </tr>\n",
       "    <tr>\n",
       "      <th>9996</th>\n",
       "      <td>162121</td>\n",
       "      <td>Cannibal In Manhattan</td>\n",
       "      <td>9</td>\n",
       "    </tr>\n",
       "    <tr>\n",
       "      <th>9997</th>\n",
       "      <td>162121</td>\n",
       "      <td>How to Flirt: A Practical Guide</td>\n",
       "      <td>7</td>\n",
       "    </tr>\n",
       "    <tr>\n",
       "      <th>9998</th>\n",
       "      <td>162121</td>\n",
       "      <td>Twilight</td>\n",
       "      <td>8</td>\n",
       "    </tr>\n",
       "    <tr>\n",
       "      <th>9999</th>\n",
       "      <td>162129</td>\n",
       "      <td>Kids Say the Darndest Things</td>\n",
       "      <td>6</td>\n",
       "    </tr>\n",
       "  </tbody>\n",
       "</table>\n",
       "<p>9998 rows × 3 columns</p>\n",
       "</div>"
      ],
      "text/plain": [
       "      userid                                              title  rating\n",
       "0     276726                                Classical Mythology       5\n",
       "1     276729                                       Clara Callan       3\n",
       "2     276729                               Decision in Normandy       6\n",
       "3     276736  Flu: The Story of the Great Influenza Pandemic...       8\n",
       "4     276737                             The Mummies of Urumchi       6\n",
       "...      ...                                                ...     ...\n",
       "9995  162121       American Fried: Adventures of a Happy Eater.       7\n",
       "9996  162121                              Cannibal In Manhattan       9\n",
       "9997  162121                    How to Flirt: A Practical Guide       7\n",
       "9998  162121                                           Twilight       8\n",
       "9999  162129                       Kids Say the Darndest Things       6\n",
       "\n",
       "[9998 rows x 3 columns]"
      ]
     },
     "execution_count": 39,
     "metadata": {},
     "output_type": "execute_result"
    }
   ],
   "source": [
    "d"
   ]
  },
  {
   "cell_type": "code",
   "execution_count": 40,
   "metadata": {
    "ExecuteTime": {
     "end_time": "2021-01-31T18:35:05.118531Z",
     "start_time": "2021-01-31T18:35:05.110551Z"
    }
   },
   "outputs": [
    {
     "name": "stdout",
     "output_type": "stream",
     "text": [
      "10.0\n"
     ]
    }
   ],
   "source": [
    "m = d.rating.quantile(0.90)\n",
    "print(m)"
   ]
  },
  {
   "cell_type": "code",
   "execution_count": 42,
   "metadata": {
    "ExecuteTime": {
     "end_time": "2021-01-31T18:35:29.668591Z",
     "start_time": "2021-01-31T18:35:29.647681Z"
    }
   },
   "outputs": [
    {
     "data": {
      "text/plain": [
       "(1732, 3)"
      ]
     },
     "execution_count": 42,
     "metadata": {},
     "output_type": "execute_result"
    }
   ],
   "source": [
    "q_Books = d.copy().loc[d.rating >= m]\n",
    "q_Books.shape"
   ]
  },
  {
   "cell_type": "code",
   "execution_count": 43,
   "metadata": {
    "ExecuteTime": {
     "end_time": "2021-01-31T18:35:40.325140Z",
     "start_time": "2021-01-31T18:35:40.264090Z"
    }
   },
   "outputs": [],
   "source": [
    "#Calculating Cosine Similarity between Users\n",
    "from sklearn.metrics import pairwise_distances\n",
    "from scipy.spatial.distance import cosine, correlation"
   ]
  },
  {
   "cell_type": "code",
   "execution_count": 51,
   "metadata": {
    "ExecuteTime": {
     "end_time": "2021-01-31T18:38:32.610326Z",
     "start_time": "2021-01-31T18:38:32.600352Z"
    }
   },
   "outputs": [],
   "source": [
    "book_df"
   ]
  },
  {
   "cell_type": "code",
   "execution_count": 57,
   "metadata": {
    "ExecuteTime": {
     "end_time": "2021-01-31T18:39:52.686878Z",
     "start_time": "2021-01-31T18:39:52.029978Z"
    }
   },
   "outputs": [
    {
     "data": {
      "text/plain": [
       "(2182, 2182)"
      ]
     },
     "execution_count": 57,
     "metadata": {},
     "output_type": "execute_result"
    }
   ],
   "source": [
    "uc_sim = 1 - pairwise_distances( book.values,metric='cosine')\n",
    "uc_sim.shape"
   ]
  },
  {
   "cell_type": "code",
   "execution_count": 59,
   "metadata": {
    "ExecuteTime": {
     "end_time": "2021-01-31T18:45:38.974001Z",
     "start_time": "2021-01-31T18:45:38.964069Z"
    }
   },
   "outputs": [],
   "source": [
    "#Store the results in a dataframe\n",
    "uc_sim_df = pd.DataFrame(uc_sim)\n",
    "uc_sim_df.index = d.userid.unique()\n",
    "uc_sim_df.columns = d.userid.unique()"
   ]
  },
  {
   "cell_type": "code",
   "execution_count": 60,
   "metadata": {
    "ExecuteTime": {
     "end_time": "2021-01-31T18:45:54.323740Z",
     "start_time": "2021-01-31T18:45:54.275870Z"
    }
   },
   "outputs": [
    {
     "data": {
      "text/plain": [
       "276726    276726\n",
       "276729    276729\n",
       "276736    276736\n",
       "276737    276737\n",
       "276744    276744\n",
       "           ...  \n",
       "277139    277139\n",
       "277143    277143\n",
       "277157    277157\n",
       "277159    277159\n",
       "277165    277165\n",
       "Length: 125, dtype: int64"
      ]
     },
     "execution_count": 60,
     "metadata": {},
     "output_type": "execute_result"
    }
   ],
   "source": [
    "uc_sim_df.idxmax(axis=1)[0:125]"
   ]
  },
  {
   "cell_type": "code",
   "execution_count": 62,
   "metadata": {
    "ExecuteTime": {
     "end_time": "2021-01-31T18:46:30.433693Z",
     "start_time": "2021-01-31T18:46:30.412753Z"
    }
   },
   "outputs": [
    {
     "data": {
      "text/html": [
       "<div>\n",
       "<style scoped>\n",
       "    .dataframe tbody tr th:only-of-type {\n",
       "        vertical-align: middle;\n",
       "    }\n",
       "\n",
       "    .dataframe tbody tr th {\n",
       "        vertical-align: top;\n",
       "    }\n",
       "\n",
       "    .dataframe thead th {\n",
       "        text-align: right;\n",
       "    }\n",
       "</style>\n",
       "<table border=\"1\" class=\"dataframe\">\n",
       "  <thead>\n",
       "    <tr style=\"text-align: right;\">\n",
       "      <th></th>\n",
       "      <th>userid</th>\n",
       "      <th>title</th>\n",
       "      <th>rating</th>\n",
       "    </tr>\n",
       "  </thead>\n",
       "  <tbody>\n",
       "    <tr>\n",
       "      <th>0</th>\n",
       "      <td>276726</td>\n",
       "      <td>Classical Mythology</td>\n",
       "      <td>5</td>\n",
       "    </tr>\n",
       "    <tr>\n",
       "      <th>2413</th>\n",
       "      <td>17</td>\n",
       "      <td>Conversations With Dogbert: A Dilbert Book</td>\n",
       "      <td>7</td>\n",
       "    </tr>\n",
       "    <tr>\n",
       "      <th>2414</th>\n",
       "      <td>17</td>\n",
       "      <td>The Dilbert Bunch: A Dilbert Book (Main Street...</td>\n",
       "      <td>5</td>\n",
       "    </tr>\n",
       "    <tr>\n",
       "      <th>2415</th>\n",
       "      <td>17</td>\n",
       "      <td>You Don't Need Experience if You've Got Attitude</td>\n",
       "      <td>6</td>\n",
       "    </tr>\n",
       "    <tr>\n",
       "      <th>2416</th>\n",
       "      <td>17</td>\n",
       "      <td>The Boss: Nameless, Blameless and Shameless (A...</td>\n",
       "      <td>3</td>\n",
       "    </tr>\n",
       "  </tbody>\n",
       "</table>\n",
       "</div>"
      ],
      "text/plain": [
       "      userid                                              title  rating\n",
       "0     276726                                Classical Mythology       5\n",
       "2413      17         Conversations With Dogbert: A Dilbert Book       7\n",
       "2414      17  The Dilbert Bunch: A Dilbert Book (Main Street...       5\n",
       "2415      17   You Don't Need Experience if You've Got Attitude       6\n",
       "2416      17  The Boss: Nameless, Blameless and Shameless (A...       3"
      ]
     },
     "execution_count": 62,
     "metadata": {},
     "output_type": "execute_result"
    }
   ],
   "source": [
    "u=d[(d['userid']==276726) | (d['userid']==17)]\n",
    "u"
   ]
  },
  {
   "cell_type": "code",
   "execution_count": 63,
   "metadata": {
    "ExecuteTime": {
     "end_time": "2021-01-31T18:47:34.150526Z",
     "start_time": "2021-01-31T18:47:34.128583Z"
    }
   },
   "outputs": [],
   "source": [
    "indices = pd.Series(d.index, index=d.title).drop_duplicates()"
   ]
  },
  {
   "cell_type": "code",
   "execution_count": 64,
   "metadata": {
    "ExecuteTime": {
     "end_time": "2021-01-31T18:47:43.658275Z",
     "start_time": "2021-01-31T18:47:43.650294Z"
    }
   },
   "outputs": [
    {
     "data": {
      "text/plain": [
       "title\n",
       "Classical Mythology                                                                                   0\n",
       "Clara Callan                                                                                          1\n",
       "Decision in Normandy                                                                                  2\n",
       "Flu: The Story of the Great Influenza Pandemic of 1918 and the Search for the Virus That Caused It    3\n",
       "The Mummies of Urumchi                                                                                4\n",
       "The Kitchen God's Wife                                                                                5\n",
       "What If?: The World's Foremost Military Historians Imagine What Might Have Been                       6\n",
       "PLEADING GUILTY                                                                                       7\n",
       "Under the Black Flag: The Romance and the Reality of Life Among the Pirates                           8\n",
       "Where You'll Find Me: And Other Stories                                                               9\n",
       "dtype: int64"
      ]
     },
     "execution_count": 64,
     "metadata": {},
     "output_type": "execute_result"
    }
   ],
   "source": [
    "indices[:10]"
   ]
  },
  {
   "cell_type": "code",
   "execution_count": 69,
   "metadata": {
    "ExecuteTime": {
     "end_time": "2021-01-31T18:49:37.632125Z",
     "start_time": "2021-01-31T18:49:37.612168Z"
    }
   },
   "outputs": [],
   "source": [
    "# Function that takes in movie title as input and outputs most similar movies\n",
    "def get_recommendations(book_title, cosine_sim=uc_sim):\n",
    "    # Get the index of the books that matches the title\n",
    "    idx = indices[book_title]\n",
    "\n",
    "    # Get the pairwsie similarity scores of all books with that books\n",
    "    sim_scores = list(enumerate(cosine_sim[idx]))\n",
    "\n",
    "    # Sort the books based on the similarity scores\n",
    "    sim_scores = sorted(sim_scores, key=lambda x: x[1], reverse=True)\n",
    "\n",
    "    # Get the scores of the 10 most similar books\n",
    "    sim_scores = sim_scores[0:11]\n",
    "\n",
    "    # Get the book indices\n",
    "    books_indices = [i[0] for i in sim_scores]\n",
    "\n",
    "    # Return the top 10 most similar books\n",
    "    return d.title.iloc[books_indices]"
   ]
  },
  {
   "cell_type": "code",
   "execution_count": 70,
   "metadata": {
    "ExecuteTime": {
     "end_time": "2021-01-31T18:49:37.948602Z",
     "start_time": "2021-01-31T18:49:37.930600Z"
    }
   },
   "outputs": [
    {
     "data": {
      "text/plain": [
       "1                                          Clara Callan\n",
       "0                                   Classical Mythology\n",
       "2                                  Decision in Normandy\n",
       "3     Flu: The Story of the Great Influenza Pandemic...\n",
       "4                                The Mummies of Urumchi\n",
       "5                                The Kitchen God's Wife\n",
       "6     What If?: The World's Foremost Military Histor...\n",
       "7                                       PLEADING GUILTY\n",
       "8     Under the Black Flag: The Romance and the Real...\n",
       "9               Where You'll Find Me: And Other Stories\n",
       "10                          Nights Below Station Street\n",
       "Name: title, dtype: object"
      ]
     },
     "execution_count": 70,
     "metadata": {},
     "output_type": "execute_result"
    }
   ],
   "source": [
    "a=get_recommendations('Clara Callan')\n",
    "a"
   ]
  },
  {
   "cell_type": "code",
   "execution_count": 71,
   "metadata": {
    "ExecuteTime": {
     "end_time": "2021-01-31T18:54:20.787077Z",
     "start_time": "2021-01-31T18:54:17.823391Z"
    }
   },
   "outputs": [],
   "source": [
    "#Finding the correlation with different movies\n",
    "similar_to_book = book.corrwith(book['Clara Callan']) "
   ]
  },
  {
   "cell_type": "code",
   "execution_count": 72,
   "metadata": {
    "ExecuteTime": {
     "end_time": "2021-01-31T18:54:42.835541Z",
     "start_time": "2021-01-31T18:54:42.816559Z"
    }
   },
   "outputs": [
    {
     "data": {
      "text/html": [
       "<div>\n",
       "<style scoped>\n",
       "    .dataframe tbody tr th:only-of-type {\n",
       "        vertical-align: middle;\n",
       "    }\n",
       "\n",
       "    .dataframe tbody tr th {\n",
       "        vertical-align: top;\n",
       "    }\n",
       "\n",
       "    .dataframe thead th {\n",
       "        text-align: right;\n",
       "    }\n",
       "</style>\n",
       "<table border=\"1\" class=\"dataframe\">\n",
       "  <thead>\n",
       "    <tr style=\"text-align: right;\">\n",
       "      <th></th>\n",
       "      <th>Correlation</th>\n",
       "    </tr>\n",
       "    <tr>\n",
       "      <th>title</th>\n",
       "      <th></th>\n",
       "    </tr>\n",
       "  </thead>\n",
       "  <tbody>\n",
       "    <tr>\n",
       "      <th>Jason, Madison &amp;amp</th>\n",
       "      <td>-0.000459</td>\n",
       "    </tr>\n",
       "    <tr>\n",
       "      <th>Other Stories;Merril;1985;McClelland &amp;amp</th>\n",
       "      <td>-0.000459</td>\n",
       "    </tr>\n",
       "    <tr>\n",
       "      <th>Repairing PC Drives &amp;amp</th>\n",
       "      <td>-0.000459</td>\n",
       "    </tr>\n",
       "    <tr>\n",
       "      <th>'48</th>\n",
       "      <td>-0.000459</td>\n",
       "    </tr>\n",
       "    <tr>\n",
       "      <th>'O Au No Keia: Voices from Hawai'I's Mahu and Transgender Communities</th>\n",
       "      <td>-0.000459</td>\n",
       "    </tr>\n",
       "  </tbody>\n",
       "</table>\n",
       "</div>"
      ],
      "text/plain": [
       "                                                    Correlation\n",
       "title                                                          \n",
       " Jason, Madison &amp                                  -0.000459\n",
       " Other Stories;Merril;1985;McClelland &amp            -0.000459\n",
       " Repairing PC Drives &amp                             -0.000459\n",
       "'48                                                   -0.000459\n",
       "'O Au No Keia: Voices from Hawai'I's Mahu and T...    -0.000459"
      ]
     },
     "execution_count": 72,
     "metadata": {},
     "output_type": "execute_result"
    }
   ],
   "source": [
    "corr_book = pd.DataFrame(similar_to_book, columns=['Correlation'])\n",
    "corr_book.dropna(inplace=True)\n",
    "corr_book.head()"
   ]
  },
  {
   "cell_type": "code",
   "execution_count": 73,
   "metadata": {
    "ExecuteTime": {
     "end_time": "2021-01-31T18:54:58.142416Z",
     "start_time": "2021-01-31T18:54:58.119512Z"
    }
   },
   "outputs": [
    {
     "data": {
      "text/html": [
       "<div>\n",
       "<style scoped>\n",
       "    .dataframe tbody tr th:only-of-type {\n",
       "        vertical-align: middle;\n",
       "    }\n",
       "\n",
       "    .dataframe tbody tr th {\n",
       "        vertical-align: top;\n",
       "    }\n",
       "\n",
       "    .dataframe thead th {\n",
       "        text-align: right;\n",
       "    }\n",
       "</style>\n",
       "<table border=\"1\" class=\"dataframe\">\n",
       "  <thead>\n",
       "    <tr style=\"text-align: right;\">\n",
       "      <th></th>\n",
       "      <th>Correlation</th>\n",
       "    </tr>\n",
       "    <tr>\n",
       "      <th>title</th>\n",
       "      <th></th>\n",
       "    </tr>\n",
       "  </thead>\n",
       "  <tbody>\n",
       "    <tr>\n",
       "      <th>Clara Callan</th>\n",
       "      <td>1.0</td>\n",
       "    </tr>\n",
       "    <tr>\n",
       "      <th>Decision in Normandy</th>\n",
       "      <td>1.0</td>\n",
       "    </tr>\n",
       "  </tbody>\n",
       "</table>\n",
       "</div>"
      ],
      "text/plain": [
       "                      Correlation\n",
       "title                            \n",
       "Clara Callan                  1.0\n",
       "Decision in Normandy          1.0"
      ]
     },
     "execution_count": 73,
     "metadata": {},
     "output_type": "execute_result"
    }
   ],
   "source": [
    "corr_book[corr_book['Correlation'] > 0].sort_values(by='Correlation', ascending=False).head(10)  "
   ]
  },
  {
   "cell_type": "code",
   "execution_count": 74,
   "metadata": {
    "ExecuteTime": {
     "end_time": "2021-01-31T18:55:47.859717Z",
     "start_time": "2021-01-31T18:55:44.842427Z"
    }
   },
   "outputs": [],
   "source": [
    "similar_to_book = book.corrwith(book['Vanished']) "
   ]
  },
  {
   "cell_type": "code",
   "execution_count": 75,
   "metadata": {
    "ExecuteTime": {
     "end_time": "2021-01-31T18:55:52.914059Z",
     "start_time": "2021-01-31T18:55:52.896108Z"
    }
   },
   "outputs": [
    {
     "data": {
      "text/html": [
       "<div>\n",
       "<style scoped>\n",
       "    .dataframe tbody tr th:only-of-type {\n",
       "        vertical-align: middle;\n",
       "    }\n",
       "\n",
       "    .dataframe tbody tr th {\n",
       "        vertical-align: top;\n",
       "    }\n",
       "\n",
       "    .dataframe thead th {\n",
       "        text-align: right;\n",
       "    }\n",
       "</style>\n",
       "<table border=\"1\" class=\"dataframe\">\n",
       "  <thead>\n",
       "    <tr style=\"text-align: right;\">\n",
       "      <th></th>\n",
       "      <th>Correlation</th>\n",
       "    </tr>\n",
       "    <tr>\n",
       "      <th>title</th>\n",
       "      <th></th>\n",
       "    </tr>\n",
       "  </thead>\n",
       "  <tbody>\n",
       "    <tr>\n",
       "      <th>Jason, Madison &amp;amp</th>\n",
       "      <td>-0.000904</td>\n",
       "    </tr>\n",
       "    <tr>\n",
       "      <th>Other Stories;Merril;1985;McClelland &amp;amp</th>\n",
       "      <td>-0.000904</td>\n",
       "    </tr>\n",
       "    <tr>\n",
       "      <th>Repairing PC Drives &amp;amp</th>\n",
       "      <td>-0.000904</td>\n",
       "    </tr>\n",
       "    <tr>\n",
       "      <th>'48</th>\n",
       "      <td>-0.000904</td>\n",
       "    </tr>\n",
       "    <tr>\n",
       "      <th>'O Au No Keia: Voices from Hawai'I's Mahu and Transgender Communities</th>\n",
       "      <td>-0.000904</td>\n",
       "    </tr>\n",
       "  </tbody>\n",
       "</table>\n",
       "</div>"
      ],
      "text/plain": [
       "                                                    Correlation\n",
       "title                                                          \n",
       " Jason, Madison &amp                                  -0.000904\n",
       " Other Stories;Merril;1985;McClelland &amp            -0.000904\n",
       " Repairing PC Drives &amp                             -0.000904\n",
       "'48                                                   -0.000904\n",
       "'O Au No Keia: Voices from Hawai'I's Mahu and T...    -0.000904"
      ]
     },
     "execution_count": 75,
     "metadata": {},
     "output_type": "execute_result"
    }
   ],
   "source": [
    "corr_book = pd.DataFrame(similar_to_book, columns=['Correlation'])\n",
    "corr_book.dropna(inplace=True)\n",
    "corr_book.head()"
   ]
  },
  {
   "cell_type": "code",
   "execution_count": 76,
   "metadata": {
    "ExecuteTime": {
     "end_time": "2021-01-31T18:56:04.546193Z",
     "start_time": "2021-01-31T18:56:04.525336Z"
    }
   },
   "outputs": [
    {
     "data": {
      "text/html": [
       "<div>\n",
       "<style scoped>\n",
       "    .dataframe tbody tr th:only-of-type {\n",
       "        vertical-align: middle;\n",
       "    }\n",
       "\n",
       "    .dataframe tbody tr th {\n",
       "        vertical-align: top;\n",
       "    }\n",
       "\n",
       "    .dataframe thead th {\n",
       "        text-align: right;\n",
       "    }\n",
       "</style>\n",
       "<table border=\"1\" class=\"dataframe\">\n",
       "  <thead>\n",
       "    <tr style=\"text-align: right;\">\n",
       "      <th></th>\n",
       "      <th>Correlation</th>\n",
       "    </tr>\n",
       "    <tr>\n",
       "      <th>title</th>\n",
       "      <th></th>\n",
       "    </tr>\n",
       "  </thead>\n",
       "  <tbody>\n",
       "    <tr>\n",
       "      <th>Vanished</th>\n",
       "      <td>1.000000</td>\n",
       "    </tr>\n",
       "    <tr>\n",
       "      <th>Downhill Chance</th>\n",
       "      <td>0.454464</td>\n",
       "    </tr>\n",
       "    <tr>\n",
       "      <th>So Long, See You Tomorrow</th>\n",
       "      <td>0.454464</td>\n",
       "    </tr>\n",
       "    <tr>\n",
       "      <th>The Northern Lights</th>\n",
       "      <td>0.454464</td>\n",
       "    </tr>\n",
       "    <tr>\n",
       "      <th>Donovan's Station: A Novel</th>\n",
       "      <td>0.454464</td>\n",
       "    </tr>\n",
       "    <tr>\n",
       "      <th>Oxygen</th>\n",
       "      <td>0.454464</td>\n",
       "    </tr>\n",
       "    <tr>\n",
       "      <th>Kits Law</th>\n",
       "      <td>0.454464</td>\n",
       "    </tr>\n",
       "    <tr>\n",
       "      <th>Home From the Vinyl Cafe</th>\n",
       "      <td>0.454464</td>\n",
       "    </tr>\n",
       "    <tr>\n",
       "      <th>The LAST PICTURE SHOW : A Novel</th>\n",
       "      <td>0.454464</td>\n",
       "    </tr>\n",
       "    <tr>\n",
       "      <th>Chasing Cezanne</th>\n",
       "      <td>0.454464</td>\n",
       "    </tr>\n",
       "  </tbody>\n",
       "</table>\n",
       "</div>"
      ],
      "text/plain": [
       "                                 Correlation\n",
       "title                                       \n",
       "Vanished                            1.000000\n",
       "Downhill Chance                     0.454464\n",
       "So Long, See You Tomorrow           0.454464\n",
       "The Northern Lights                 0.454464\n",
       "Donovan's Station: A Novel          0.454464\n",
       "Oxygen                              0.454464\n",
       "Kits Law                            0.454464\n",
       "Home From the Vinyl Cafe            0.454464\n",
       "The LAST PICTURE SHOW : A Novel     0.454464\n",
       "Chasing Cezanne                     0.454464"
      ]
     },
     "execution_count": 76,
     "metadata": {},
     "output_type": "execute_result"
    }
   ],
   "source": [
    "corr_book[corr_book['Correlation'] > 0].sort_values(by='Correlation', ascending=False).head(10)  "
   ]
  },
  {
   "cell_type": "code",
   "execution_count": 77,
   "metadata": {
    "ExecuteTime": {
     "end_time": "2021-01-31T18:57:09.598133Z",
     "start_time": "2021-01-31T18:57:09.557199Z"
    }
   },
   "outputs": [],
   "source": [
    "ratings_mean_count = pd.DataFrame(d.groupby('title')['rating'].mean())\n",
    "ratings_mean_count['rating_counts'] = pd.DataFrame(d.groupby('title')['rating'].count())"
   ]
  },
  {
   "cell_type": "code",
   "execution_count": 86,
   "metadata": {
    "ExecuteTime": {
     "end_time": "2021-01-31T19:00:00.065760Z",
     "start_time": "2021-01-31T18:59:59.855286Z"
    }
   },
   "outputs": [
    {
     "data": {
      "text/plain": [
       "<matplotlib.axes._subplots.AxesSubplot at 0x251a0342b80>"
      ]
     },
     "execution_count": 86,
     "metadata": {},
     "output_type": "execute_result"
    },
    {
     "data": {
      "image/png": "[encoded data removed]",
      "text/plain": [
       "<Figure size 576x432 with 1 Axes>"
      ]
     },
     "metadata": {
      "needs_background": "light"
     },
     "output_type": "display_data"
    }
   ],
   "source": [
    "import matplotlib.pyplot as plt\n",
    "import seaborn as sns\n",
    "%matplotlib inline\n",
    "plt.figure(figsize=(8,6))\n",
    "plt.rcParams['patch.force_edgecolor'] = True\n",
    "ratings_mean_count['rating'].hist(bins=10)"
   ]
  },
  {
   "cell_type": "markdown",
   "metadata": {},
   "source": [
    "# Conclusion:-\n",
    "# From the output you can see that the Books that have high correlation are not very well known. This shows that correlation alone is not a good metric for similarity because there can be a user who wished to take those Books  and only  other books and rated  them same.\n",
    "## Recommendation is based on Rating."
   ]
  }
 ],
 "metadata": {
  "kernelspec": {
   "display_name": "Python 3",
   "language": "python",
   "name": "python3"
  },
  "language_info": {
   "codemirror_mode": {
    "name": "ipython",
    "version": 3
   },
   "file_extension": ".py",
   "mimetype": "text/x-python",
   "name": "python",
   "nbconvert_exporter": "python",
   "pygments_lexer": "ipython3",
   "version": "3.8.3"
  },
  "varInspector": {
   "cols": {
    "lenName": 16,
    "lenType": 16,
    "lenVar": 40
   },
   "kernels_config": {
    "python": {
     "delete_cmd_postfix": "",
     "delete_cmd_prefix": "del ",
     "library": "var_list.py",
     "varRefreshCmd": "print(var_dic_list())"
    },
    "r": {
     "delete_cmd_postfix": ") ",
     "delete_cmd_prefix": "rm(",
     "library": "var_list.r",
     "varRefreshCmd": "cat(var_dic_list()) "
    }
   },
   "types_to_exclude": [
    "module",
    "function",
    "builtin_function_or_method",
    "instance",
    "_Feature"
   ],
   "window_display": false
  }
 },
 "nbformat": 4,
 "nbformat_minor": 4
}
